{
 "cells": [
  {
   "cell_type": "code",
   "execution_count": 20,
   "outputs": [],
   "source": [
    "import pandas as pd\n",
    "\n",
    "organizations_duplicates = pd.read_parquet(\"organizations_duplicates.parquet\")\n",
    "organizations_duplicates[\"unique_id\"] = organizations_duplicates[\"OrganizationId\"].astype(str)\n",
    "organizations_duplicates.to_parquet(\"organizations_duplicates.parquet\")"
   ],
   "metadata": {
    "collapsed": false,
    "ExecuteTime": {
     "end_time": "2023-06-14T19:31:48.081076Z",
     "start_time": "2023-06-14T19:31:43.633244Z"
    }
   }
  },
  {
   "cell_type": "code",
   "execution_count": 329,
   "outputs": [],
   "source": [
    "tmp_df = pd.read_parquet(\"organizations_duplicates.parquet\")"
   ],
   "metadata": {
    "collapsed": false,
    "ExecuteTime": {
     "end_time": "2023-06-19T13:05:39.263662Z",
     "start_time": "2023-06-19T13:05:39.174424Z"
    }
   }
  },
  {
   "cell_type": "code",
   "execution_count": 331,
   "outputs": [],
   "source": [
    "sample_df = tmp_df.sample(frac=0.1)"
   ],
   "metadata": {
    "collapsed": false,
    "ExecuteTime": {
     "end_time": "2023-06-19T13:06:18.872699Z",
     "start_time": "2023-06-19T13:06:18.868144Z"
    }
   }
  },
  {
   "cell_type": "code",
   "execution_count": 333,
   "outputs": [],
   "source": [
    "sample_df.to_parquet(\"organizations_duplicates_sample.parquet\")"
   ],
   "metadata": {
    "collapsed": false,
    "ExecuteTime": {
     "end_time": "2023-06-19T13:06:38.991561Z",
     "start_time": "2023-06-19T13:06:38.939844Z"
    }
   }
  },
  {
   "cell_type": "code",
   "execution_count": 1,
   "outputs": [],
   "source": [
    "import duckdb"
   ],
   "metadata": {
    "collapsed": false,
    "ExecuteTime": {
     "end_time": "2023-06-14T18:50:29.349339Z",
     "start_time": "2023-06-14T18:50:29.233469Z"
    }
   }
  },
  {
   "cell_type": "code",
   "execution_count": 21,
   "outputs": [],
   "source": [
    "con = duckdb.connect(database='test_duckdb.db', read_only=False)"
   ],
   "metadata": {
    "collapsed": false,
    "ExecuteTime": {
     "end_time": "2023-06-14T19:31:54.336477Z",
     "start_time": "2023-06-14T19:31:54.332189Z"
    }
   }
  },
  {
   "cell_type": "code",
   "execution_count": null,
   "outputs": [],
   "source": [],
   "metadata": {
    "collapsed": false
   }
  },
  {
   "cell_type": "code",
   "execution_count": 22,
   "outputs": [
    {
     "data": {
      "text/plain": "<duckdb.DuckDBPyConnection at 0x1346c45b0>"
     },
     "execution_count": 22,
     "metadata": {},
     "output_type": "execute_result"
    }
   ],
   "source": [
    "con.execute(\"DROP TABLE IF EXISTS organizations\")"
   ],
   "metadata": {
    "collapsed": false,
    "ExecuteTime": {
     "end_time": "2023-06-14T19:32:13.533695Z",
     "start_time": "2023-06-14T19:32:13.529520Z"
    }
   }
  },
  {
   "cell_type": "code",
   "execution_count": 23,
   "outputs": [
    {
     "data": {
      "text/plain": "<duckdb.DuckDBPyConnection at 0x1346c45b0>"
     },
     "execution_count": 23,
     "metadata": {},
     "output_type": "execute_result"
    }
   ],
   "source": [
    "con.execute(\"CREATE TABLE organizations AS SELECT * FROM 'organizations_duplicates.parquet';\")"
   ],
   "metadata": {
    "collapsed": false,
    "ExecuteTime": {
     "end_time": "2023-06-14T19:32:28.119087Z",
     "start_time": "2023-06-14T19:32:28.033456Z"
    }
   }
  },
  {
   "cell_type": "code",
   "execution_count": 24,
   "outputs": [],
   "source": [
    "con.close()"
   ],
   "metadata": {
    "collapsed": false,
    "ExecuteTime": {
     "end_time": "2023-06-14T19:32:39.629343Z",
     "start_time": "2023-06-14T19:32:39.628443Z"
    }
   }
  },
  {
   "cell_type": "code",
   "execution_count": 12,
   "outputs": [],
   "source": [
    "from splink.duckdb.linker import DuckDBLinker"
   ],
   "metadata": {
    "collapsed": false,
    "ExecuteTime": {
     "end_time": "2023-06-14T19:24:37.196034Z",
     "start_time": "2023-06-14T19:24:37.193217Z"
    }
   }
  },
  {
   "cell_type": "code",
   "execution_count": 25,
   "outputs": [],
   "source": [
    "duckdb_con = duckdb.connect(database='test_duckdb.db', read_only=False)"
   ],
   "metadata": {
    "collapsed": false,
    "ExecuteTime": {
     "end_time": "2023-06-14T19:32:44.743870Z",
     "start_time": "2023-06-14T19:32:44.741314Z"
    }
   }
  },
  {
   "cell_type": "code",
   "execution_count": 212,
   "outputs": [
    {
     "data": {
      "text/plain": "['__splink__analyse_blocking_rule_f91acbedc',\n '__splink__df_comparison_vectors_7a66e589c',\n '__splink__df_concat_with_tf_a027c165f',\n '__splink__df_connected_components_df_8270de744',\n '__splink__df_connected_components_df_c5cc7b844',\n '__splink__df_neighbours_33a8a5b0f',\n '__splink__df_neighbours_f34ad8df9',\n '__splink__df_predict_b0109132e',\n '__splink__df_predict_da26584a1',\n '__splink__df_representatives_133fccfdc',\n '__splink__df_representatives_2_4e467e66d',\n '__splink__df_representatives_2_9dd60cc31',\n '__splink__df_representatives_eba4d9f14',\n 'organizations',\n 'test']"
     },
     "execution_count": 212,
     "metadata": {},
     "output_type": "execute_result"
    }
   ],
   "source": [
    "duckdb_con.execute(\"SHOW ALL TABLES;\").df()[\"name\"].to_list()"
   ],
   "metadata": {
    "collapsed": false,
    "ExecuteTime": {
     "end_time": "2023-06-17T19:43:33.488620Z",
     "start_time": "2023-06-17T19:43:33.476307Z"
    }
   }
  },
  {
   "cell_type": "code",
   "execution_count": 18,
   "outputs": [],
   "source": [
    "duckdb_con.close()"
   ],
   "metadata": {
    "collapsed": false,
    "ExecuteTime": {
     "end_time": "2023-06-14T19:29:15.148063Z",
     "start_time": "2023-06-14T19:29:15.145876Z"
    }
   }
  },
  {
   "cell_type": "code",
   "execution_count": 26,
   "outputs": [],
   "source": [
    "import splink.duckdb.comparison_library as cl\n",
    "import splink.duckdb.comparison_template_library as ctl\n",
    "\n",
    "settings = {\n",
    "    \"link_type\": \"dedupe_only\",\n",
    "    \"comparisons\": [\n",
    "        cl.jaro_winkler_at_thresholds(\"Thoroughfare\", [0.9, 0.8, 0.7]),\n",
    "        ctl.name_comparison(\"LegalName\")\n",
    "    ],\n",
    "    \"blocking_rules_to_generate_predictions\": [\n",
    "        \"l.NUTSId = r.NUTSId and substr(l.LegalName, 1,3) = substr(r.LegalName, 1,3)\"\n",
    "    ],\n",
    "    \"retain_matching_columns\": True,\n",
    "    \"retain_intermediate_calculation_columns\": False,\n",
    "}"
   ],
   "metadata": {
    "collapsed": false,
    "ExecuteTime": {
     "end_time": "2023-06-14T19:32:48.471465Z",
     "start_time": "2023-06-14T19:32:48.469415Z"
    }
   }
  },
  {
   "cell_type": "code",
   "execution_count": 27,
   "outputs": [],
   "source": [
    "linker = DuckDBLinker(input_table_or_tables=\"organizations\", settings_dict=settings, connection=duckdb_con)"
   ],
   "metadata": {
    "collapsed": false,
    "ExecuteTime": {
     "end_time": "2023-06-14T19:32:50.311843Z",
     "start_time": "2023-06-14T19:32:50.302543Z"
    }
   }
  },
  {
   "cell_type": "code",
   "execution_count": 28,
   "outputs": [
    {
     "data": {
      "text/plain": "114685"
     },
     "execution_count": 28,
     "metadata": {},
     "output_type": "execute_result"
    }
   ],
   "source": [
    "linker.count_num_comparisons_from_blocking_rule(\n",
    "    \"l.NUTSId = r.NUTSId and substr(l.LegalName, 1,3) = substr(r.LegalName, 1,3)\")"
   ],
   "metadata": {
    "collapsed": false,
    "ExecuteTime": {
     "end_time": "2023-06-14T19:32:53.884011Z",
     "start_time": "2023-06-14T19:32:53.826447Z"
    }
   }
  },
  {
   "cell_type": "code",
   "execution_count": 29,
   "outputs": [
    {
     "name": "stderr",
     "output_type": "stream",
     "text": [
      "----- Estimating u probabilities using random sampling -----\n"
     ]
    },
    {
     "data": {
      "text/plain": "FloatProgress(value=0.0, layout=Layout(width='auto'), style=ProgressStyle(bar_color='black'))",
      "application/vnd.jupyter.widget-view+json": {
       "version_major": 2,
       "version_minor": 0,
       "model_id": "241f71b08cea44718cf481851e9a017f"
      }
     },
     "metadata": {},
     "output_type": "display_data"
    },
    {
     "name": "stderr",
     "output_type": "stream",
     "text": [
      "\n",
      "Estimated u probabilities using random sampling\n",
      "\n",
      "Your model is not yet fully trained. Missing estimates for:\n",
      "    - Thoroughfare (no m values are trained).\n",
      "    - LegalName (no m values are trained).\n"
     ]
    }
   ],
   "source": [
    "linker.estimate_u_using_random_sampling(max_pairs=1e6)"
   ],
   "metadata": {
    "collapsed": false,
    "ExecuteTime": {
     "end_time": "2023-06-14T19:33:57.385661Z",
     "start_time": "2023-06-14T19:33:41.391381Z"
    }
   }
  },
  {
   "cell_type": "code",
   "execution_count": 30,
   "outputs": [
    {
     "name": "stderr",
     "output_type": "stream",
     "text": [
      "\n",
      "----- Starting EM training session -----\n",
      "\n",
      "Estimating the m probabilities of the model by blocking on:\n",
      "l.NUTSId = r.NUTSId\n",
      "\n",
      "Parameter estimates will be made for the following comparison(s):\n",
      "    - Thoroughfare\n",
      "    - LegalName\n",
      "\n",
      "Parameter estimates cannot be made for the following comparison(s) since they are used in the blocking rules: \n"
     ]
    },
    {
     "data": {
      "text/plain": "FloatProgress(value=0.0, layout=Layout(width='auto'), style=ProgressStyle(bar_color='black'))",
      "application/vnd.jupyter.widget-view+json": {
       "version_major": 2,
       "version_minor": 0,
       "model_id": "4750b7ef3cac4b1a915c264e3e396d33"
      }
     },
     "metadata": {},
     "output_type": "display_data"
    },
    {
     "name": "stderr",
     "output_type": "stream",
     "text": [
      "\n",
      "Iteration 1: Largest change in params was 0.0255 in the m_probability of Thoroughfare, level `Jaro_winkler_similarity >= 0.9`\n",
      "Iteration 2: Largest change in params was -0.101 in the m_probability of LegalName, level `Exact match LegalName`\n",
      "Iteration 3: Largest change in params was -0.0513 in the m_probability of LegalName, level `Exact match LegalName`\n",
      "Iteration 4: Largest change in params was -0.0719 in the m_probability of Thoroughfare, level `Exact match`\n",
      "Iteration 5: Largest change in params was -0.173 in the m_probability of Thoroughfare, level `Exact match`\n",
      "Iteration 6: Largest change in params was -0.17 in the m_probability of Thoroughfare, level `Exact match`\n",
      "Iteration 7: Largest change in params was 0.263 in the m_probability of LegalName, level `All other comparisons`\n",
      "Iteration 8: Largest change in params was 0.232 in the m_probability of LegalName, level `All other comparisons`\n",
      "Iteration 9: Largest change in params was 0.07 in the m_probability of LegalName, level `All other comparisons`\n",
      "Iteration 10: Largest change in params was 0.0218 in the m_probability of Thoroughfare, level `All other comparisons`\n",
      "Iteration 11: Largest change in params was 0.0254 in the m_probability of Thoroughfare, level `All other comparisons`\n",
      "Iteration 12: Largest change in params was 0.0234 in the m_probability of Thoroughfare, level `All other comparisons`\n",
      "Iteration 13: Largest change in params was 0.0202 in the m_probability of Thoroughfare, level `All other comparisons`\n",
      "Iteration 14: Largest change in params was 0.0171 in the m_probability of Thoroughfare, level `All other comparisons`\n",
      "Iteration 15: Largest change in params was 0.0146 in the m_probability of Thoroughfare, level `All other comparisons`\n",
      "Iteration 16: Largest change in params was 0.0125 in the m_probability of Thoroughfare, level `All other comparisons`\n",
      "Iteration 17: Largest change in params was 0.0109 in the m_probability of Thoroughfare, level `All other comparisons`\n",
      "Iteration 18: Largest change in params was 0.00948 in the m_probability of Thoroughfare, level `All other comparisons`\n",
      "Iteration 19: Largest change in params was 0.00833 in the m_probability of Thoroughfare, level `All other comparisons`\n",
      "Iteration 20: Largest change in params was 0.00736 in the m_probability of Thoroughfare, level `All other comparisons`\n",
      "Iteration 21: Largest change in params was 0.00654 in the m_probability of Thoroughfare, level `All other comparisons`\n",
      "Iteration 22: Largest change in params was 0.00584 in the m_probability of Thoroughfare, level `All other comparisons`\n",
      "Iteration 23: Largest change in params was 0.00523 in the m_probability of Thoroughfare, level `All other comparisons`\n",
      "Iteration 24: Largest change in params was 0.0047 in the m_probability of Thoroughfare, level `All other comparisons`\n",
      "Iteration 25: Largest change in params was 0.00424 in the m_probability of Thoroughfare, level `All other comparisons`\n",
      "\n",
      "EM converged after 25 iterations\n",
      "\n",
      "Your model is fully trained. All comparisons have at least one estimate for their m and u values\n"
     ]
    }
   ],
   "source": [
    "training_blocking_rule = \"l.NUTSId = r.NUTSId\"\n",
    "training_session_fname_sname = linker.estimate_parameters_using_expectation_maximisation(training_blocking_rule)"
   ],
   "metadata": {
    "collapsed": false,
    "ExecuteTime": {
     "end_time": "2023-06-14T19:35:08.943791Z",
     "start_time": "2023-06-14T19:34:02.537087Z"
    }
   }
  },
  {
   "cell_type": "code",
   "execution_count": 33,
   "outputs": [],
   "source": [
    "settings = linker.save_model_to_json(\"saved_model_from_demo.json\", overwrite=True)"
   ],
   "metadata": {
    "collapsed": false,
    "ExecuteTime": {
     "end_time": "2023-06-14T19:36:10.631987Z",
     "start_time": "2023-06-14T19:36:10.629111Z"
    }
   }
  },
  {
   "cell_type": "code",
   "execution_count": 214,
   "outputs": [],
   "source": [
    "linker = DuckDBLinker(input_table_or_tables=\"organizations\", connection=duckdb_con)\n",
    "linker.load_settings(\"saved_model_from_demo.json\")"
   ],
   "metadata": {
    "collapsed": false,
    "ExecuteTime": {
     "end_time": "2023-06-18T15:23:36.202462Z",
     "start_time": "2023-06-18T15:23:36.162708Z"
    }
   }
  },
  {
   "cell_type": "code",
   "execution_count": 215,
   "outputs": [],
   "source": [
    "df_predictions = linker.predict(threshold_match_probability=0.8)"
   ],
   "metadata": {
    "collapsed": false,
    "ExecuteTime": {
     "end_time": "2023-06-18T15:23:38.129633Z",
     "start_time": "2023-06-18T15:23:38.080346Z"
    }
   }
  },
  {
   "cell_type": "code",
   "execution_count": 216,
   "outputs": [],
   "source": [
    "result_df = df_predictions.as_pandas_dataframe()"
   ],
   "metadata": {
    "collapsed": false,
    "ExecuteTime": {
     "end_time": "2023-06-18T15:23:55.864366Z",
     "start_time": "2023-06-18T15:23:55.718354Z"
    }
   }
  },
  {
   "cell_type": "code",
   "execution_count": 222,
   "outputs": [
    {
     "name": "stderr",
     "output_type": "stream",
     "text": [
      "Completed iteration 1, root rows count 2\n",
      "Completed iteration 2, root rows count 0\n"
     ]
    }
   ],
   "source": [
    "clusters_df = linker.cluster_pairwise_predictions_at_threshold(df_predictions, threshold_match_probability=0.8)"
   ],
   "metadata": {
    "collapsed": false,
    "ExecuteTime": {
     "end_time": "2023-06-18T15:25:53.616602Z",
     "start_time": "2023-06-18T15:25:53.436535Z"
    }
   }
  },
  {
   "cell_type": "code",
   "execution_count": 224,
   "outputs": [
    {
     "data": {
      "text/plain": "                                              cluster_id  \\\n0      http://data.europa.eu/a4g/resource/id_2023-S-0...   \n1      http://data.europa.eu/a4g/resource/id_2023-S-0...   \n2      http://data.europa.eu/a4g/resource/id_2023-S-0...   \n3      http://data.europa.eu/a4g/resource/id_2023-S-0...   \n4      http://data.europa.eu/a4g/resource/id_2023-S-0...   \n...                                                  ...   \n32763  http://data.europa.eu/a4g/resource/id_2023-S-0...   \n32764  http://data.europa.eu/a4g/resource/id_2023-S-0...   \n32765  http://data.europa.eu/a4g/resource/id_2023-S-0...   \n32766  http://data.europa.eu/a4g/resource/id_2023-S-0...   \n32767  http://data.europa.eu/a4g/resource/id_2023-S-0...   \n\n                                          OrganizationId  \\\n0      http://data.europa.eu/a4g/resource/id_2023-S-0...   \n1      http://data.europa.eu/a4g/resource/id_2023-S-0...   \n2      http://data.europa.eu/a4g/resource/id_2023-S-0...   \n3      http://data.europa.eu/a4g/resource/id_2023-S-0...   \n4      http://data.europa.eu/a4g/resource/id_2023-S-0...   \n...                                                  ...   \n32763  http://data.europa.eu/a4g/resource/id_2023-S-0...   \n32764  http://data.europa.eu/a4g/resource/id_2023-S-0...   \n32765  http://data.europa.eu/a4g/resource/id_2023-S-0...   \n32766  http://data.europa.eu/a4g/resource/id_2023-S-0...   \n32767  http://data.europa.eu/a4g/resource/id_2023-S-0...   \n\n                                               LegalName  \\\n0                        PERSONALHUSET STAFFING GROUP AS   \n1                                              SIA \"VIA\"   \n2                                      Huolto Hillman Oy   \n3                                      commune de toulon   \n4                                      ENGIE SERVIZI SPA   \n...                                                  ...   \n32763                             Suffolk County Council   \n32764                   Wageningen University & Research   \n32765  UTE CIBERNOS CONSULTING, S.A.-OESIA NETWORKS, ...   \n32766  Przedsiębiorstwo Obrotu i Fabrykacji Artykułów...   \n32767                                  VMA-GETZMANN GMBH   \n\n                                               AddressId BusinessSize  \\\n0      http://data.europa.eu/a4g/resource/id_2023-S-0...          NaN   \n1      http://data.europa.eu/a4g/resource/id_2023-S-0...          sme   \n2      http://data.europa.eu/a4g/resource/id_2023-S-0...          sme   \n3      http://data.europa.eu/a4g/resource/id_2023-S-0...          NaN   \n4      http://data.europa.eu/a4g/resource/id_2023-S-0...          NaN   \n...                                                  ...          ...   \n32763  http://data.europa.eu/a4g/resource/id_2023-S-0...          NaN   \n32764  http://data.europa.eu/a4g/resource/id_2023-S-0...          NaN   \n32765  http://data.europa.eu/a4g/resource/id_2023-S-0...          NaN   \n32766  http://data.europa.eu/a4g/resource/id_2023-S-0...          sme   \n32767  http://data.europa.eu/a4g/resource/id_2023-S-0...          sme   \n\n      CountryCode PostCode    PostName                       Thoroughfare  \\\n0             NOR     0159        Oslo                         Grensen 17   \n1             LVA  LV-1026        Rīga                      Starta iela 5   \n2             FIN      NaN   Korppinen                                NaN   \n3             FRA    83056      Toulon  avenue de la République, Cs 71407   \n4             ITA    00144        ROMA                  VIA G. RIBOTTA 31   \n...           ...      ...         ...                                ...   \n32763         GBR      NaN     Ipswich                                NaN   \n32764         NLD  6700 AB  Wageningen                         Postbus 59   \n32765         ESP      NaN      Madrid                                NaN   \n32766         POL   60-573      Poznań                      ul. Lindego 6   \n32767         DEU    51580   Reichshof                                NaN   \n\n       FullAddress  ... NUTS1                  NUTS1Label  \\\n0              NaN  ...   NO0                       Norge   \n1              NaN  ...   LV0                     Latvija   \n2              NaN  ...   FI1                Manner-Suomi   \n3              NaN  ...   FRL  Provence-Alpes-Côte d’Azur   \n4              NaN  ...   ITI                 Centro (IT)   \n...            ...  ...   ...                         ...   \n32763          NaN  ...   UKH             East of England   \n32764          NaN  ...   NaN                         NaN   \n32765          NaN  ...   NaN                         NaN   \n32766          NaN  ...   NaN                         NaN   \n32767          NaN  ...   DEA         Nordrhein-Westfalen   \n\n                    NUTS1LabelEng NUTS2                  NUTS2Label  \\\n0                           Norge  NO08               Oslo og Viken   \n1                         Latvija  LV00                     Latvija   \n2                    Manner-Suomi  FI19                 Länsi-Suomi   \n3      Provence-Alpes-Côte d’Azur  FRL0  Provence-Alpes-Côte d’Azur   \n4                     Centro (IT)  ITI4                       Lazio   \n...                           ...   ...                         ...   \n32763             East of England  UKH1                 East Anglia   \n32764                         NaN   NaN                         NaN   \n32765                         NaN   NaN                         NaN   \n32766                         NaN   NaN                         NaN   \n32767         Nordrhein-Westfalen  DEA2                        Köln   \n\n                    NUTS2LabelEng  NUTS3            NUTS3Label  \\\n0                   Oslo og Viken  NO081                  Oslo   \n1                         Latvija    NaN                   NaN   \n2                     Länsi-Suomi  FI193           Keski-Suomi   \n3      Provence-Alpes-Côte d’Azur  FRL05                   Var   \n4                           Lazio  ITI43                  Roma   \n...                           ...    ...                   ...   \n32763                 East Anglia  UKH14               Suffolk   \n32764                         NaN    NaN                   NaN   \n32765                         NaN    NaN                   NaN   \n32766                         NaN    NaN                   NaN   \n32767                        Köln  DEA2A  Oberbergischer Kreis   \n\n              NUTS3LabelEng                                          unique_id  \n0                      Oslo  http://data.europa.eu/a4g/resource/id_2023-S-0...  \n1                       NaN  http://data.europa.eu/a4g/resource/id_2023-S-0...  \n2               Keski-Suomi  http://data.europa.eu/a4g/resource/id_2023-S-0...  \n3                       Var  http://data.europa.eu/a4g/resource/id_2023-S-0...  \n4                      Roma  http://data.europa.eu/a4g/resource/id_2023-S-0...  \n...                     ...                                                ...  \n32763               Suffolk  http://data.europa.eu/a4g/resource/id_2023-S-0...  \n32764                   NaN  http://data.europa.eu/a4g/resource/id_2023-S-0...  \n32765                   NaN  http://data.europa.eu/a4g/resource/id_2023-S-0...  \n32766                   NaN  http://data.europa.eu/a4g/resource/id_2023-S-0...  \n32767  Oberbergischer Kreis  http://data.europa.eu/a4g/resource/id_2023-S-0...  \n\n[32768 rows x 26 columns]",
      "text/html": "<div>\n<style scoped>\n    .dataframe tbody tr th:only-of-type {\n        vertical-align: middle;\n    }\n\n    .dataframe tbody tr th {\n        vertical-align: top;\n    }\n\n    .dataframe thead th {\n        text-align: right;\n    }\n</style>\n<table border=\"1\" class=\"dataframe\">\n  <thead>\n    <tr style=\"text-align: right;\">\n      <th></th>\n      <th>cluster_id</th>\n      <th>OrganizationId</th>\n      <th>LegalName</th>\n      <th>AddressId</th>\n      <th>BusinessSize</th>\n      <th>CountryCode</th>\n      <th>PostCode</th>\n      <th>PostName</th>\n      <th>Thoroughfare</th>\n      <th>FullAddress</th>\n      <th>...</th>\n      <th>NUTS1</th>\n      <th>NUTS1Label</th>\n      <th>NUTS1LabelEng</th>\n      <th>NUTS2</th>\n      <th>NUTS2Label</th>\n      <th>NUTS2LabelEng</th>\n      <th>NUTS3</th>\n      <th>NUTS3Label</th>\n      <th>NUTS3LabelEng</th>\n      <th>unique_id</th>\n    </tr>\n  </thead>\n  <tbody>\n    <tr>\n      <th>0</th>\n      <td>http://data.europa.eu/a4g/resource/id_2023-S-0...</td>\n      <td>http://data.europa.eu/a4g/resource/id_2023-S-0...</td>\n      <td>PERSONALHUSET STAFFING GROUP AS</td>\n      <td>http://data.europa.eu/a4g/resource/id_2023-S-0...</td>\n      <td>NaN</td>\n      <td>NOR</td>\n      <td>0159</td>\n      <td>Oslo</td>\n      <td>Grensen 17</td>\n      <td>NaN</td>\n      <td>...</td>\n      <td>NO0</td>\n      <td>Norge</td>\n      <td>Norge</td>\n      <td>NO08</td>\n      <td>Oslo og Viken</td>\n      <td>Oslo og Viken</td>\n      <td>NO081</td>\n      <td>Oslo</td>\n      <td>Oslo</td>\n      <td>http://data.europa.eu/a4g/resource/id_2023-S-0...</td>\n    </tr>\n    <tr>\n      <th>1</th>\n      <td>http://data.europa.eu/a4g/resource/id_2023-S-0...</td>\n      <td>http://data.europa.eu/a4g/resource/id_2023-S-0...</td>\n      <td>SIA \"VIA\"</td>\n      <td>http://data.europa.eu/a4g/resource/id_2023-S-0...</td>\n      <td>sme</td>\n      <td>LVA</td>\n      <td>LV-1026</td>\n      <td>Rīga</td>\n      <td>Starta iela 5</td>\n      <td>NaN</td>\n      <td>...</td>\n      <td>LV0</td>\n      <td>Latvija</td>\n      <td>Latvija</td>\n      <td>LV00</td>\n      <td>Latvija</td>\n      <td>Latvija</td>\n      <td>NaN</td>\n      <td>NaN</td>\n      <td>NaN</td>\n      <td>http://data.europa.eu/a4g/resource/id_2023-S-0...</td>\n    </tr>\n    <tr>\n      <th>2</th>\n      <td>http://data.europa.eu/a4g/resource/id_2023-S-0...</td>\n      <td>http://data.europa.eu/a4g/resource/id_2023-S-0...</td>\n      <td>Huolto Hillman Oy</td>\n      <td>http://data.europa.eu/a4g/resource/id_2023-S-0...</td>\n      <td>sme</td>\n      <td>FIN</td>\n      <td>NaN</td>\n      <td>Korppinen</td>\n      <td>NaN</td>\n      <td>NaN</td>\n      <td>...</td>\n      <td>FI1</td>\n      <td>Manner-Suomi</td>\n      <td>Manner-Suomi</td>\n      <td>FI19</td>\n      <td>Länsi-Suomi</td>\n      <td>Länsi-Suomi</td>\n      <td>FI193</td>\n      <td>Keski-Suomi</td>\n      <td>Keski-Suomi</td>\n      <td>http://data.europa.eu/a4g/resource/id_2023-S-0...</td>\n    </tr>\n    <tr>\n      <th>3</th>\n      <td>http://data.europa.eu/a4g/resource/id_2023-S-0...</td>\n      <td>http://data.europa.eu/a4g/resource/id_2023-S-0...</td>\n      <td>commune de toulon</td>\n      <td>http://data.europa.eu/a4g/resource/id_2023-S-0...</td>\n      <td>NaN</td>\n      <td>FRA</td>\n      <td>83056</td>\n      <td>Toulon</td>\n      <td>avenue de la République, Cs 71407</td>\n      <td>NaN</td>\n      <td>...</td>\n      <td>FRL</td>\n      <td>Provence-Alpes-Côte d’Azur</td>\n      <td>Provence-Alpes-Côte d’Azur</td>\n      <td>FRL0</td>\n      <td>Provence-Alpes-Côte d’Azur</td>\n      <td>Provence-Alpes-Côte d’Azur</td>\n      <td>FRL05</td>\n      <td>Var</td>\n      <td>Var</td>\n      <td>http://data.europa.eu/a4g/resource/id_2023-S-0...</td>\n    </tr>\n    <tr>\n      <th>4</th>\n      <td>http://data.europa.eu/a4g/resource/id_2023-S-0...</td>\n      <td>http://data.europa.eu/a4g/resource/id_2023-S-0...</td>\n      <td>ENGIE SERVIZI SPA</td>\n      <td>http://data.europa.eu/a4g/resource/id_2023-S-0...</td>\n      <td>NaN</td>\n      <td>ITA</td>\n      <td>00144</td>\n      <td>ROMA</td>\n      <td>VIA G. RIBOTTA 31</td>\n      <td>NaN</td>\n      <td>...</td>\n      <td>ITI</td>\n      <td>Centro (IT)</td>\n      <td>Centro (IT)</td>\n      <td>ITI4</td>\n      <td>Lazio</td>\n      <td>Lazio</td>\n      <td>ITI43</td>\n      <td>Roma</td>\n      <td>Roma</td>\n      <td>http://data.europa.eu/a4g/resource/id_2023-S-0...</td>\n    </tr>\n    <tr>\n      <th>...</th>\n      <td>...</td>\n      <td>...</td>\n      <td>...</td>\n      <td>...</td>\n      <td>...</td>\n      <td>...</td>\n      <td>...</td>\n      <td>...</td>\n      <td>...</td>\n      <td>...</td>\n      <td>...</td>\n      <td>...</td>\n      <td>...</td>\n      <td>...</td>\n      <td>...</td>\n      <td>...</td>\n      <td>...</td>\n      <td>...</td>\n      <td>...</td>\n      <td>...</td>\n      <td>...</td>\n    </tr>\n    <tr>\n      <th>32763</th>\n      <td>http://data.europa.eu/a4g/resource/id_2023-S-0...</td>\n      <td>http://data.europa.eu/a4g/resource/id_2023-S-0...</td>\n      <td>Suffolk County Council</td>\n      <td>http://data.europa.eu/a4g/resource/id_2023-S-0...</td>\n      <td>NaN</td>\n      <td>GBR</td>\n      <td>NaN</td>\n      <td>Ipswich</td>\n      <td>NaN</td>\n      <td>NaN</td>\n      <td>...</td>\n      <td>UKH</td>\n      <td>East of England</td>\n      <td>East of England</td>\n      <td>UKH1</td>\n      <td>East Anglia</td>\n      <td>East Anglia</td>\n      <td>UKH14</td>\n      <td>Suffolk</td>\n      <td>Suffolk</td>\n      <td>http://data.europa.eu/a4g/resource/id_2023-S-0...</td>\n    </tr>\n    <tr>\n      <th>32764</th>\n      <td>http://data.europa.eu/a4g/resource/id_2023-S-0...</td>\n      <td>http://data.europa.eu/a4g/resource/id_2023-S-0...</td>\n      <td>Wageningen University &amp; Research</td>\n      <td>http://data.europa.eu/a4g/resource/id_2023-S-0...</td>\n      <td>NaN</td>\n      <td>NLD</td>\n      <td>6700 AB</td>\n      <td>Wageningen</td>\n      <td>Postbus 59</td>\n      <td>NaN</td>\n      <td>...</td>\n      <td>NaN</td>\n      <td>NaN</td>\n      <td>NaN</td>\n      <td>NaN</td>\n      <td>NaN</td>\n      <td>NaN</td>\n      <td>NaN</td>\n      <td>NaN</td>\n      <td>NaN</td>\n      <td>http://data.europa.eu/a4g/resource/id_2023-S-0...</td>\n    </tr>\n    <tr>\n      <th>32765</th>\n      <td>http://data.europa.eu/a4g/resource/id_2023-S-0...</td>\n      <td>http://data.europa.eu/a4g/resource/id_2023-S-0...</td>\n      <td>UTE CIBERNOS CONSULTING, S.A.-OESIA NETWORKS, ...</td>\n      <td>http://data.europa.eu/a4g/resource/id_2023-S-0...</td>\n      <td>NaN</td>\n      <td>ESP</td>\n      <td>NaN</td>\n      <td>Madrid</td>\n      <td>NaN</td>\n      <td>NaN</td>\n      <td>...</td>\n      <td>NaN</td>\n      <td>NaN</td>\n      <td>NaN</td>\n      <td>NaN</td>\n      <td>NaN</td>\n      <td>NaN</td>\n      <td>NaN</td>\n      <td>NaN</td>\n      <td>NaN</td>\n      <td>http://data.europa.eu/a4g/resource/id_2023-S-0...</td>\n    </tr>\n    <tr>\n      <th>32766</th>\n      <td>http://data.europa.eu/a4g/resource/id_2023-S-0...</td>\n      <td>http://data.europa.eu/a4g/resource/id_2023-S-0...</td>\n      <td>Przedsiębiorstwo Obrotu i Fabrykacji Artykułów...</td>\n      <td>http://data.europa.eu/a4g/resource/id_2023-S-0...</td>\n      <td>sme</td>\n      <td>POL</td>\n      <td>60-573</td>\n      <td>Poznań</td>\n      <td>ul. Lindego 6</td>\n      <td>NaN</td>\n      <td>...</td>\n      <td>NaN</td>\n      <td>NaN</td>\n      <td>NaN</td>\n      <td>NaN</td>\n      <td>NaN</td>\n      <td>NaN</td>\n      <td>NaN</td>\n      <td>NaN</td>\n      <td>NaN</td>\n      <td>http://data.europa.eu/a4g/resource/id_2023-S-0...</td>\n    </tr>\n    <tr>\n      <th>32767</th>\n      <td>http://data.europa.eu/a4g/resource/id_2023-S-0...</td>\n      <td>http://data.europa.eu/a4g/resource/id_2023-S-0...</td>\n      <td>VMA-GETZMANN GMBH</td>\n      <td>http://data.europa.eu/a4g/resource/id_2023-S-0...</td>\n      <td>sme</td>\n      <td>DEU</td>\n      <td>51580</td>\n      <td>Reichshof</td>\n      <td>NaN</td>\n      <td>NaN</td>\n      <td>...</td>\n      <td>DEA</td>\n      <td>Nordrhein-Westfalen</td>\n      <td>Nordrhein-Westfalen</td>\n      <td>DEA2</td>\n      <td>Köln</td>\n      <td>Köln</td>\n      <td>DEA2A</td>\n      <td>Oberbergischer Kreis</td>\n      <td>Oberbergischer Kreis</td>\n      <td>http://data.europa.eu/a4g/resource/id_2023-S-0...</td>\n    </tr>\n  </tbody>\n</table>\n<p>32768 rows × 26 columns</p>\n</div>"
     },
     "execution_count": 224,
     "metadata": {},
     "output_type": "execute_result"
    }
   ],
   "source": [
    "clusters_df = clusters_df.as_pandas_dataframe()\n",
    "clusters_df\n"
   ],
   "metadata": {
    "collapsed": false,
    "ExecuteTime": {
     "end_time": "2023-06-18T15:27:20.537666Z",
     "start_time": "2023-06-18T15:27:20.405592Z"
    }
   }
  },
  {
   "cell_type": "code",
   "execution_count": 233,
   "outputs": [
    {
     "data": {
      "text/plain": "23087"
     },
     "execution_count": 233,
     "metadata": {},
     "output_type": "execute_result"
    }
   ],
   "source": [
    "len(clusters_df[\"cluster_id\"].unique())"
   ],
   "metadata": {
    "collapsed": false,
    "ExecuteTime": {
     "end_time": "2023-06-18T15:29:07.582756Z",
     "start_time": "2023-06-18T15:29:07.571308Z"
    }
   }
  },
  {
   "cell_type": "code",
   "execution_count": 219,
   "outputs": [
    {
     "data": {
      "text/plain": "13928"
     },
     "execution_count": 219,
     "metadata": {},
     "output_type": "execute_result"
    }
   ],
   "source": [
    "len(set(result_df[\"unique_id_l\"].tolist()).union(set(result_df[\"unique_id_r\"].tolist())))"
   ],
   "metadata": {
    "collapsed": false,
    "ExecuteTime": {
     "end_time": "2023-06-18T15:25:12.311540Z",
     "start_time": "2023-06-18T15:25:12.308628Z"
    }
   }
  },
  {
   "cell_type": "code",
   "execution_count": 220,
   "outputs": [
    {
     "data": {
      "text/plain": "32768"
     },
     "execution_count": 220,
     "metadata": {},
     "output_type": "execute_result"
    }
   ],
   "source": [
    "len(organizations_duplicates[\"unique_id\"].unique())"
   ],
   "metadata": {
    "collapsed": false,
    "ExecuteTime": {
     "end_time": "2023-06-18T15:25:24.885490Z",
     "start_time": "2023-06-18T15:25:24.871766Z"
    }
   }
  },
  {
   "cell_type": "code",
   "execution_count": 257,
   "outputs": [],
   "source": [
    "new_data = clusters_df.copy()\n",
    "new_data[\"main_cluster_id\"] = new_data[\"cluster_id\"]\n",
    "new_data.drop(columns=[\"cluster_id\"], inplace=True)"
   ],
   "metadata": {
    "collapsed": false,
    "ExecuteTime": {
     "end_time": "2023-06-18T15:44:44.875760Z",
     "start_time": "2023-06-18T15:44:44.855169Z"
    }
   }
  },
  {
   "cell_type": "code",
   "execution_count": 264,
   "outputs": [
    {
     "data": {
      "text/plain": "Index(['OrganizationId', 'LegalName', 'AddressId', 'BusinessSize',\n       'CountryCode', 'PostCode', 'PostName', 'Thoroughfare', 'FullAddress',\n       'NUTSId', 'NUTSLabel', 'NUTSLabelEng', 'NUTS0', 'NUTS0Label',\n       'NUTS0LabelEng', 'NUTS1', 'NUTS1Label', 'NUTS1LabelEng', 'NUTS2',\n       'NUTS2Label', 'NUTS2LabelEng', 'NUTS3', 'NUTS3Label', 'NUTS3LabelEng',\n       'unique_id', 'main_cluster_id'],\n      dtype='object')"
     },
     "execution_count": 264,
     "metadata": {},
     "output_type": "execute_result"
    }
   ],
   "source": [
    "new_data.columns"
   ],
   "metadata": {
    "collapsed": false,
    "ExecuteTime": {
     "end_time": "2023-06-18T15:46:38.801530Z",
     "start_time": "2023-06-18T15:46:38.798599Z"
    }
   }
  },
  {
   "cell_type": "code",
   "execution_count": 305,
   "outputs": [],
   "source": [
    "new_settings = settings.copy()\n",
    "new_settings[\"link_type\"] = \"link_only\"\n",
    "linker_only = DuckDBLinker(input_table_or_tables=[new_data, new_data.head(100)],\n",
    "                           settings_dict=new_settings)"
   ],
   "metadata": {
    "collapsed": false,
    "ExecuteTime": {
     "end_time": "2023-06-18T16:33:06.476674Z",
     "start_time": "2023-06-18T16:33:06.473608Z"
    }
   }
  },
  {
   "cell_type": "code",
   "execution_count": 306,
   "outputs": [],
   "source": [
    "df_predict = linker_only.predict(threshold_match_probability=0.8)"
   ],
   "metadata": {
    "collapsed": false,
    "ExecuteTime": {
     "end_time": "2023-06-18T16:33:07.915866Z",
     "start_time": "2023-06-18T16:33:07.698280Z"
    }
   }
  },
  {
   "cell_type": "code",
   "execution_count": 307,
   "outputs": [
    {
     "data": {
      "text/plain": "     match_weight  match_probability         source_dataset_l  \\\n0        7.159884           0.993056  __splink__input_table_0   \n1        7.159884           0.993056  __splink__input_table_0   \n2        7.159884           0.993056  __splink__input_table_0   \n3        7.159884           0.993056  __splink__input_table_0   \n4        7.159884           0.993056  __splink__input_table_0   \n..            ...                ...                      ...   \n342      7.159884           0.993056  __splink__input_table_0   \n343      7.159884           0.993056  __splink__input_table_0   \n344      7.159884           0.993056  __splink__input_table_0   \n345      7.159884           0.993056  __splink__input_table_0   \n346      7.159884           0.993056  __splink__input_table_0   \n\n            source_dataset_r  \\\n0    __splink__input_table_1   \n1    __splink__input_table_1   \n2    __splink__input_table_1   \n3    __splink__input_table_1   \n4    __splink__input_table_1   \n..                       ...   \n342  __splink__input_table_1   \n343  __splink__input_table_1   \n344  __splink__input_table_1   \n345  __splink__input_table_1   \n346  __splink__input_table_1   \n\n                                           unique_id_l  \\\n0    http://data.europa.eu/a4g/resource/id_2023-S-0...   \n1    http://data.europa.eu/a4g/resource/id_2023-S-0...   \n2    http://data.europa.eu/a4g/resource/id_2023-S-0...   \n3    http://data.europa.eu/a4g/resource/id_2023-S-0...   \n4    http://data.europa.eu/a4g/resource/id_2023-S-0...   \n..                                                 ...   \n342  http://data.europa.eu/a4g/resource/id_2023-S-0...   \n343  http://data.europa.eu/a4g/resource/id_2023-S-0...   \n344  http://data.europa.eu/a4g/resource/id_2023-S-0...   \n345  http://data.europa.eu/a4g/resource/id_2023-S-0...   \n346  http://data.europa.eu/a4g/resource/id_2023-S-0...   \n\n                                           unique_id_r  \\\n0    http://data.europa.eu/a4g/resource/id_2023-S-0...   \n1    http://data.europa.eu/a4g/resource/id_2023-S-0...   \n2    http://data.europa.eu/a4g/resource/id_2023-S-0...   \n3    http://data.europa.eu/a4g/resource/id_2023-S-0...   \n4    http://data.europa.eu/a4g/resource/id_2023-S-0...   \n..                                                 ...   \n342  http://data.europa.eu/a4g/resource/id_2023-S-0...   \n343  http://data.europa.eu/a4g/resource/id_2023-S-0...   \n344  http://data.europa.eu/a4g/resource/id_2023-S-0...   \n345  http://data.europa.eu/a4g/resource/id_2023-S-0...   \n346  http://data.europa.eu/a4g/resource/id_2023-S-0...   \n\n                             Thoroughfare_l  \\\n0                                Grensen 17   \n1         avenue de la République, Cs 71407   \n2                         VIA G. RIBOTTA 31   \n3                            Birkenallee 51   \n4                 place de l'hôtel de Ville   \n..                                      ...   \n342  Strada Splaiul Independenţei, Nr. 202A   \n343                       Podle trati 624/7   \n344  Strada Splaiul Independenţei, Nr. 202A   \n345              Huvudkontoret Röda vägen 1   \n346                         Hansastraße 27c   \n\n                             Thoroughfare_r  gamma_Thoroughfare  \\\n0                                Grensen 17                   4   \n1         avenue de la République, Cs 71407                   4   \n2                         VIA G. RIBOTTA 31                   4   \n3                            Birkenallee 51                   4   \n4                 place de l'hôtel de Ville                   4   \n..                                      ...                 ...   \n342  Strada Splaiul Independenţei, Nr. 202A                   4   \n343                       Podle trati 624/7                   4   \n344  Strada Splaiul Independenţei, Nr. 202A                   4   \n345              Huvudkontoret Röda vägen 1                   4   \n346                         Hansastraße 27c                   4   \n\n                                           LegalName_l  \\\n0                      PERSONALHUSET STAFFING GROUP AS   \n1                                    commune de toulon   \n2                                    ENGIE SERVIZI SPA   \n3                                  Gemeinde Bubenreuth   \n4                               ville de Perros-Guirec   \n..                                                 ...   \n342  Autoritatea Nationala de Management al Calitat...   \n343                         Alliance Healthcare s.r.o.   \n344  Autoritatea Nationala de Management al Calitat...   \n345                             Trafikverket Myndighet   \n346              Fraunhofer-Gesellschaft - Einkauf B12   \n\n                                           LegalName_r  gamma_LegalName  \\\n0                      PERSONALHUSET STAFFING GROUP AS                4   \n1                                    commune de toulon                4   \n2                                    ENGIE SERVIZI SPA                4   \n3                                  Gemeinde Bubenreuth                4   \n4                               ville de Perros-Guirec                4   \n..                                                 ...              ...   \n342  Autoritatea Nationala de Management al Calitat...                4   \n343                         Alliance Healthcare s.r.o.                4   \n344  Autoritatea Nationala de Management al Calitat...                4   \n345                             Trafikverket Myndighet                4   \n346              Fraunhofer-Gesellschaft - Einkauf B12                4   \n\n    NUTSId_l NUTSId_r  \n0      NO081    NO081  \n1      FRL05    FRL05  \n2      ITI43    ITI43  \n3      DE257    DE257  \n4      FRH01    FRH01  \n..       ...      ...  \n342    RO321    RO321  \n343    CZ010    CZ010  \n344    RO321    RO321  \n345       SE       SE  \n346    DE212    DE212  \n\n[347 rows x 14 columns]",
      "text/html": "<div>\n<style scoped>\n    .dataframe tbody tr th:only-of-type {\n        vertical-align: middle;\n    }\n\n    .dataframe tbody tr th {\n        vertical-align: top;\n    }\n\n    .dataframe thead th {\n        text-align: right;\n    }\n</style>\n<table border=\"1\" class=\"dataframe\">\n  <thead>\n    <tr style=\"text-align: right;\">\n      <th></th>\n      <th>match_weight</th>\n      <th>match_probability</th>\n      <th>source_dataset_l</th>\n      <th>source_dataset_r</th>\n      <th>unique_id_l</th>\n      <th>unique_id_r</th>\n      <th>Thoroughfare_l</th>\n      <th>Thoroughfare_r</th>\n      <th>gamma_Thoroughfare</th>\n      <th>LegalName_l</th>\n      <th>LegalName_r</th>\n      <th>gamma_LegalName</th>\n      <th>NUTSId_l</th>\n      <th>NUTSId_r</th>\n    </tr>\n  </thead>\n  <tbody>\n    <tr>\n      <th>0</th>\n      <td>7.159884</td>\n      <td>0.993056</td>\n      <td>__splink__input_table_0</td>\n      <td>__splink__input_table_1</td>\n      <td>http://data.europa.eu/a4g/resource/id_2023-S-0...</td>\n      <td>http://data.europa.eu/a4g/resource/id_2023-S-0...</td>\n      <td>Grensen 17</td>\n      <td>Grensen 17</td>\n      <td>4</td>\n      <td>PERSONALHUSET STAFFING GROUP AS</td>\n      <td>PERSONALHUSET STAFFING GROUP AS</td>\n      <td>4</td>\n      <td>NO081</td>\n      <td>NO081</td>\n    </tr>\n    <tr>\n      <th>1</th>\n      <td>7.159884</td>\n      <td>0.993056</td>\n      <td>__splink__input_table_0</td>\n      <td>__splink__input_table_1</td>\n      <td>http://data.europa.eu/a4g/resource/id_2023-S-0...</td>\n      <td>http://data.europa.eu/a4g/resource/id_2023-S-0...</td>\n      <td>avenue de la République, Cs 71407</td>\n      <td>avenue de la République, Cs 71407</td>\n      <td>4</td>\n      <td>commune de toulon</td>\n      <td>commune de toulon</td>\n      <td>4</td>\n      <td>FRL05</td>\n      <td>FRL05</td>\n    </tr>\n    <tr>\n      <th>2</th>\n      <td>7.159884</td>\n      <td>0.993056</td>\n      <td>__splink__input_table_0</td>\n      <td>__splink__input_table_1</td>\n      <td>http://data.europa.eu/a4g/resource/id_2023-S-0...</td>\n      <td>http://data.europa.eu/a4g/resource/id_2023-S-0...</td>\n      <td>VIA G. RIBOTTA 31</td>\n      <td>VIA G. RIBOTTA 31</td>\n      <td>4</td>\n      <td>ENGIE SERVIZI SPA</td>\n      <td>ENGIE SERVIZI SPA</td>\n      <td>4</td>\n      <td>ITI43</td>\n      <td>ITI43</td>\n    </tr>\n    <tr>\n      <th>3</th>\n      <td>7.159884</td>\n      <td>0.993056</td>\n      <td>__splink__input_table_0</td>\n      <td>__splink__input_table_1</td>\n      <td>http://data.europa.eu/a4g/resource/id_2023-S-0...</td>\n      <td>http://data.europa.eu/a4g/resource/id_2023-S-0...</td>\n      <td>Birkenallee 51</td>\n      <td>Birkenallee 51</td>\n      <td>4</td>\n      <td>Gemeinde Bubenreuth</td>\n      <td>Gemeinde Bubenreuth</td>\n      <td>4</td>\n      <td>DE257</td>\n      <td>DE257</td>\n    </tr>\n    <tr>\n      <th>4</th>\n      <td>7.159884</td>\n      <td>0.993056</td>\n      <td>__splink__input_table_0</td>\n      <td>__splink__input_table_1</td>\n      <td>http://data.europa.eu/a4g/resource/id_2023-S-0...</td>\n      <td>http://data.europa.eu/a4g/resource/id_2023-S-0...</td>\n      <td>place de l'hôtel de Ville</td>\n      <td>place de l'hôtel de Ville</td>\n      <td>4</td>\n      <td>ville de Perros-Guirec</td>\n      <td>ville de Perros-Guirec</td>\n      <td>4</td>\n      <td>FRH01</td>\n      <td>FRH01</td>\n    </tr>\n    <tr>\n      <th>...</th>\n      <td>...</td>\n      <td>...</td>\n      <td>...</td>\n      <td>...</td>\n      <td>...</td>\n      <td>...</td>\n      <td>...</td>\n      <td>...</td>\n      <td>...</td>\n      <td>...</td>\n      <td>...</td>\n      <td>...</td>\n      <td>...</td>\n      <td>...</td>\n    </tr>\n    <tr>\n      <th>342</th>\n      <td>7.159884</td>\n      <td>0.993056</td>\n      <td>__splink__input_table_0</td>\n      <td>__splink__input_table_1</td>\n      <td>http://data.europa.eu/a4g/resource/id_2023-S-0...</td>\n      <td>http://data.europa.eu/a4g/resource/id_2023-S-0...</td>\n      <td>Strada Splaiul Independenţei, Nr. 202A</td>\n      <td>Strada Splaiul Independenţei, Nr. 202A</td>\n      <td>4</td>\n      <td>Autoritatea Nationala de Management al Calitat...</td>\n      <td>Autoritatea Nationala de Management al Calitat...</td>\n      <td>4</td>\n      <td>RO321</td>\n      <td>RO321</td>\n    </tr>\n    <tr>\n      <th>343</th>\n      <td>7.159884</td>\n      <td>0.993056</td>\n      <td>__splink__input_table_0</td>\n      <td>__splink__input_table_1</td>\n      <td>http://data.europa.eu/a4g/resource/id_2023-S-0...</td>\n      <td>http://data.europa.eu/a4g/resource/id_2023-S-0...</td>\n      <td>Podle trati 624/7</td>\n      <td>Podle trati 624/7</td>\n      <td>4</td>\n      <td>Alliance Healthcare s.r.o.</td>\n      <td>Alliance Healthcare s.r.o.</td>\n      <td>4</td>\n      <td>CZ010</td>\n      <td>CZ010</td>\n    </tr>\n    <tr>\n      <th>344</th>\n      <td>7.159884</td>\n      <td>0.993056</td>\n      <td>__splink__input_table_0</td>\n      <td>__splink__input_table_1</td>\n      <td>http://data.europa.eu/a4g/resource/id_2023-S-0...</td>\n      <td>http://data.europa.eu/a4g/resource/id_2023-S-0...</td>\n      <td>Strada Splaiul Independenţei, Nr. 202A</td>\n      <td>Strada Splaiul Independenţei, Nr. 202A</td>\n      <td>4</td>\n      <td>Autoritatea Nationala de Management al Calitat...</td>\n      <td>Autoritatea Nationala de Management al Calitat...</td>\n      <td>4</td>\n      <td>RO321</td>\n      <td>RO321</td>\n    </tr>\n    <tr>\n      <th>345</th>\n      <td>7.159884</td>\n      <td>0.993056</td>\n      <td>__splink__input_table_0</td>\n      <td>__splink__input_table_1</td>\n      <td>http://data.europa.eu/a4g/resource/id_2023-S-0...</td>\n      <td>http://data.europa.eu/a4g/resource/id_2023-S-0...</td>\n      <td>Huvudkontoret Röda vägen 1</td>\n      <td>Huvudkontoret Röda vägen 1</td>\n      <td>4</td>\n      <td>Trafikverket Myndighet</td>\n      <td>Trafikverket Myndighet</td>\n      <td>4</td>\n      <td>SE</td>\n      <td>SE</td>\n    </tr>\n    <tr>\n      <th>346</th>\n      <td>7.159884</td>\n      <td>0.993056</td>\n      <td>__splink__input_table_0</td>\n      <td>__splink__input_table_1</td>\n      <td>http://data.europa.eu/a4g/resource/id_2023-S-0...</td>\n      <td>http://data.europa.eu/a4g/resource/id_2023-S-0...</td>\n      <td>Hansastraße 27c</td>\n      <td>Hansastraße 27c</td>\n      <td>4</td>\n      <td>Fraunhofer-Gesellschaft - Einkauf B12</td>\n      <td>Fraunhofer-Gesellschaft - Einkauf B12</td>\n      <td>4</td>\n      <td>DE212</td>\n      <td>DE212</td>\n    </tr>\n  </tbody>\n</table>\n<p>347 rows × 14 columns</p>\n</div>"
     },
     "execution_count": 307,
     "metadata": {},
     "output_type": "execute_result"
    }
   ],
   "source": [
    "df_predict_result = df_predict.as_pandas_dataframe()\n",
    "df_predict_result"
   ],
   "metadata": {
    "collapsed": false,
    "ExecuteTime": {
     "end_time": "2023-06-18T16:33:09.085123Z",
     "start_time": "2023-06-18T16:33:09.074299Z"
    }
   }
  },
  {
   "cell_type": "code",
   "execution_count": 314,
   "outputs": [],
   "source": [
    "links = df_predict_result[['unique_id_l', 'unique_id_r', 'match_probability']]"
   ],
   "metadata": {
    "collapsed": false,
    "ExecuteTime": {
     "end_time": "2023-06-18T16:37:30.372984Z",
     "start_time": "2023-06-18T16:37:30.369636Z"
    }
   }
  },
  {
   "cell_type": "code",
   "execution_count": 324,
   "outputs": [
    {
     "data": {
      "text/plain": "                                           unique_id_l  \\\n0    http://data.europa.eu/a4g/resource/id_2023-S-0...   \n1    http://data.europa.eu/a4g/resource/id_2023-S-0...   \n2    http://data.europa.eu/a4g/resource/id_2023-S-0...   \n3    http://data.europa.eu/a4g/resource/id_2023-S-0...   \n4    http://data.europa.eu/a4g/resource/id_2023-S-0...   \n..                                                 ...   \n342  http://data.europa.eu/a4g/resource/id_2023-S-0...   \n343  http://data.europa.eu/a4g/resource/id_2023-S-0...   \n344  http://data.europa.eu/a4g/resource/id_2023-S-0...   \n345  http://data.europa.eu/a4g/resource/id_2023-S-0...   \n346  http://data.europa.eu/a4g/resource/id_2023-S-0...   \n\n                                           unique_id_l  \n0    http://data.europa.eu/a4g/resource/id_2023-S-0...  \n1    http://data.europa.eu/a4g/resource/id_2023-S-0...  \n2    http://data.europa.eu/a4g/resource/id_2023-S-0...  \n3    http://data.europa.eu/a4g/resource/id_2023-S-0...  \n4    http://data.europa.eu/a4g/resource/id_2023-S-0...  \n..                                                 ...  \n342  http://data.europa.eu/a4g/resource/id_2023-S-0...  \n343  http://data.europa.eu/a4g/resource/id_2023-S-0...  \n344  http://data.europa.eu/a4g/resource/id_2023-S-0...  \n345  http://data.europa.eu/a4g/resource/id_2023-S-0...  \n346  http://data.europa.eu/a4g/resource/id_2023-S-0...  \n\n[347 rows x 2 columns]",
      "text/html": "<div>\n<style scoped>\n    .dataframe tbody tr th:only-of-type {\n        vertical-align: middle;\n    }\n\n    .dataframe tbody tr th {\n        vertical-align: top;\n    }\n\n    .dataframe thead th {\n        text-align: right;\n    }\n</style>\n<table border=\"1\" class=\"dataframe\">\n  <thead>\n    <tr style=\"text-align: right;\">\n      <th></th>\n      <th>unique_id_l</th>\n      <th>unique_id_l</th>\n    </tr>\n  </thead>\n  <tbody>\n    <tr>\n      <th>0</th>\n      <td>http://data.europa.eu/a4g/resource/id_2023-S-0...</td>\n      <td>http://data.europa.eu/a4g/resource/id_2023-S-0...</td>\n    </tr>\n    <tr>\n      <th>1</th>\n      <td>http://data.europa.eu/a4g/resource/id_2023-S-0...</td>\n      <td>http://data.europa.eu/a4g/resource/id_2023-S-0...</td>\n    </tr>\n    <tr>\n      <th>2</th>\n      <td>http://data.europa.eu/a4g/resource/id_2023-S-0...</td>\n      <td>http://data.europa.eu/a4g/resource/id_2023-S-0...</td>\n    </tr>\n    <tr>\n      <th>3</th>\n      <td>http://data.europa.eu/a4g/resource/id_2023-S-0...</td>\n      <td>http://data.europa.eu/a4g/resource/id_2023-S-0...</td>\n    </tr>\n    <tr>\n      <th>4</th>\n      <td>http://data.europa.eu/a4g/resource/id_2023-S-0...</td>\n      <td>http://data.europa.eu/a4g/resource/id_2023-S-0...</td>\n    </tr>\n    <tr>\n      <th>...</th>\n      <td>...</td>\n      <td>...</td>\n    </tr>\n    <tr>\n      <th>342</th>\n      <td>http://data.europa.eu/a4g/resource/id_2023-S-0...</td>\n      <td>http://data.europa.eu/a4g/resource/id_2023-S-0...</td>\n    </tr>\n    <tr>\n      <th>343</th>\n      <td>http://data.europa.eu/a4g/resource/id_2023-S-0...</td>\n      <td>http://data.europa.eu/a4g/resource/id_2023-S-0...</td>\n    </tr>\n    <tr>\n      <th>344</th>\n      <td>http://data.europa.eu/a4g/resource/id_2023-S-0...</td>\n      <td>http://data.europa.eu/a4g/resource/id_2023-S-0...</td>\n    </tr>\n    <tr>\n      <th>345</th>\n      <td>http://data.europa.eu/a4g/resource/id_2023-S-0...</td>\n      <td>http://data.europa.eu/a4g/resource/id_2023-S-0...</td>\n    </tr>\n    <tr>\n      <th>346</th>\n      <td>http://data.europa.eu/a4g/resource/id_2023-S-0...</td>\n      <td>http://data.europa.eu/a4g/resource/id_2023-S-0...</td>\n    </tr>\n  </tbody>\n</table>\n<p>347 rows × 2 columns</p>\n</div>"
     },
     "execution_count": 324,
     "metadata": {},
     "output_type": "execute_result"
    }
   ],
   "source": [
    "links[[\"unique_id_l\", \"unique_id_l\"]].rename(columns={\"unique_id_l\": \"unique_id_r\", \"unique_id_r\": \"unique_id_l\"})"
   ],
   "metadata": {
    "collapsed": false,
    "ExecuteTime": {
     "end_time": "2023-06-19T09:08:11.463655Z",
     "start_time": "2023-06-19T09:08:11.461035Z"
    }
   }
  },
  {
   "cell_type": "code",
   "execution_count": 325,
   "outputs": [],
   "source": [
    "tmp_a = pd.DataFrame([{\"a\":1, \"b\":2}, {\"a\":3, \"b\":4}])\n",
    "tmp_b = pd.DataFrame([{\"b\": 2, \"c\": 5}, {\"b\": 5, \"c\": 6}])"
   ],
   "metadata": {
    "collapsed": false,
    "ExecuteTime": {
     "end_time": "2023-06-19T10:47:45.480310Z",
     "start_time": "2023-06-19T10:47:45.477308Z"
    }
   }
  },
  {
   "cell_type": "code",
   "execution_count": 328,
   "outputs": [
    {
     "data": {
      "text/plain": "     a  b  c\n0  1.0  2  5\n1  NaN  5  6",
      "text/html": "<div>\n<style scoped>\n    .dataframe tbody tr th:only-of-type {\n        vertical-align: middle;\n    }\n\n    .dataframe tbody tr th {\n        vertical-align: top;\n    }\n\n    .dataframe thead th {\n        text-align: right;\n    }\n</style>\n<table border=\"1\" class=\"dataframe\">\n  <thead>\n    <tr style=\"text-align: right;\">\n      <th></th>\n      <th>a</th>\n      <th>b</th>\n      <th>c</th>\n    </tr>\n  </thead>\n  <tbody>\n    <tr>\n      <th>0</th>\n      <td>1.0</td>\n      <td>2</td>\n      <td>5</td>\n    </tr>\n    <tr>\n      <th>1</th>\n      <td>NaN</td>\n      <td>5</td>\n      <td>6</td>\n    </tr>\n  </tbody>\n</table>\n</div>"
     },
     "execution_count": 328,
     "metadata": {},
     "output_type": "execute_result"
    }
   ],
   "source": [
    "tmp_a.merge(tmp_b, on=\"b\", how=\"right\")"
   ],
   "metadata": {
    "collapsed": false,
    "ExecuteTime": {
     "end_time": "2023-06-19T12:49:27.629092Z",
     "start_time": "2023-06-19T12:49:27.626833Z"
    }
   }
  },
  {
   "cell_type": "code",
   "execution_count": 323,
   "outputs": [
    {
     "data": {
      "text/plain": "                                           unique_id_l  \\\n0    http://data.europa.eu/a4g/resource/id_2023-S-0...   \n1    http://data.europa.eu/a4g/resource/id_2023-S-0...   \n2    http://data.europa.eu/a4g/resource/id_2023-S-0...   \n3    http://data.europa.eu/a4g/resource/id_2023-S-0...   \n4    http://data.europa.eu/a4g/resource/id_2023-S-0...   \n..                                                 ...   \n339  http://data.europa.eu/a4g/resource/id_2023-S-0...   \n340  http://data.europa.eu/a4g/resource/id_2023-S-0...   \n341  http://data.europa.eu/a4g/resource/id_2023-S-0...   \n342  http://data.europa.eu/a4g/resource/id_2023-S-0...   \n343  http://data.europa.eu/a4g/resource/id_2023-S-0...   \n\n                                           unique_id_r  match_probability  \n0    http://data.europa.eu/a4g/resource/id_2023-S-0...           0.993056  \n1    http://data.europa.eu/a4g/resource/id_2023-S-0...           0.993056  \n2    http://data.europa.eu/a4g/resource/id_2023-S-0...           0.993056  \n3    http://data.europa.eu/a4g/resource/id_2023-S-0...           0.993056  \n4    http://data.europa.eu/a4g/resource/id_2023-S-0...           0.993056  \n..                                                 ...                ...  \n339  http://data.europa.eu/a4g/resource/id_2023-S-0...           0.993056  \n340  http://data.europa.eu/a4g/resource/id_2023-S-0...           0.993056  \n341  http://data.europa.eu/a4g/resource/id_2023-S-0...           0.993056  \n342  http://data.europa.eu/a4g/resource/id_2023-S-0...           0.993056  \n343  http://data.europa.eu/a4g/resource/id_2023-S-0...           0.993056  \n\n[344 rows x 3 columns]",
      "text/html": "<div>\n<style scoped>\n    .dataframe tbody tr th:only-of-type {\n        vertical-align: middle;\n    }\n\n    .dataframe tbody tr th {\n        vertical-align: top;\n    }\n\n    .dataframe thead th {\n        text-align: right;\n    }\n</style>\n<table border=\"1\" class=\"dataframe\">\n  <thead>\n    <tr style=\"text-align: right;\">\n      <th></th>\n      <th>unique_id_l</th>\n      <th>unique_id_r</th>\n      <th>match_probability</th>\n    </tr>\n  </thead>\n  <tbody>\n    <tr>\n      <th>0</th>\n      <td>http://data.europa.eu/a4g/resource/id_2023-S-0...</td>\n      <td>http://data.europa.eu/a4g/resource/id_2023-S-0...</td>\n      <td>0.993056</td>\n    </tr>\n    <tr>\n      <th>1</th>\n      <td>http://data.europa.eu/a4g/resource/id_2023-S-0...</td>\n      <td>http://data.europa.eu/a4g/resource/id_2023-S-0...</td>\n      <td>0.993056</td>\n    </tr>\n    <tr>\n      <th>2</th>\n      <td>http://data.europa.eu/a4g/resource/id_2023-S-0...</td>\n      <td>http://data.europa.eu/a4g/resource/id_2023-S-0...</td>\n      <td>0.993056</td>\n    </tr>\n    <tr>\n      <th>3</th>\n      <td>http://data.europa.eu/a4g/resource/id_2023-S-0...</td>\n      <td>http://data.europa.eu/a4g/resource/id_2023-S-0...</td>\n      <td>0.993056</td>\n    </tr>\n    <tr>\n      <th>4</th>\n      <td>http://data.europa.eu/a4g/resource/id_2023-S-0...</td>\n      <td>http://data.europa.eu/a4g/resource/id_2023-S-0...</td>\n      <td>0.993056</td>\n    </tr>\n    <tr>\n      <th>...</th>\n      <td>...</td>\n      <td>...</td>\n      <td>...</td>\n    </tr>\n    <tr>\n      <th>339</th>\n      <td>http://data.europa.eu/a4g/resource/id_2023-S-0...</td>\n      <td>http://data.europa.eu/a4g/resource/id_2023-S-0...</td>\n      <td>0.993056</td>\n    </tr>\n    <tr>\n      <th>340</th>\n      <td>http://data.europa.eu/a4g/resource/id_2023-S-0...</td>\n      <td>http://data.europa.eu/a4g/resource/id_2023-S-0...</td>\n      <td>0.993056</td>\n    </tr>\n    <tr>\n      <th>341</th>\n      <td>http://data.europa.eu/a4g/resource/id_2023-S-0...</td>\n      <td>http://data.europa.eu/a4g/resource/id_2023-S-0...</td>\n      <td>0.993056</td>\n    </tr>\n    <tr>\n      <th>342</th>\n      <td>http://data.europa.eu/a4g/resource/id_2023-S-0...</td>\n      <td>http://data.europa.eu/a4g/resource/id_2023-S-0...</td>\n      <td>0.993056</td>\n    </tr>\n    <tr>\n      <th>343</th>\n      <td>http://data.europa.eu/a4g/resource/id_2023-S-0...</td>\n      <td>http://data.europa.eu/a4g/resource/id_2023-S-0...</td>\n      <td>0.993056</td>\n    </tr>\n  </tbody>\n</table>\n<p>344 rows × 3 columns</p>\n</div>"
     },
     "execution_count": 323,
     "metadata": {},
     "output_type": "execute_result"
    }
   ],
   "source": [
    "links.groupby([\"unique_id_l\"]).max().reset_index(level=0)"
   ],
   "metadata": {
    "collapsed": false,
    "ExecuteTime": {
     "end_time": "2023-06-18T16:39:45.927351Z",
     "start_time": "2023-06-18T16:39:45.914648Z"
    }
   }
  },
  {
   "cell_type": "code",
   "execution_count": 267,
   "outputs": [
    {
     "data": {
      "text/plain": "                                          OrganizationId  \\\n2      http://data.europa.eu/a4g/resource/id_2023-S-0...   \n13     http://data.europa.eu/a4g/resource/id_2023-S-0...   \n18     http://data.europa.eu/a4g/resource/id_2023-S-0...   \n24     http://data.europa.eu/a4g/resource/id_2023-S-0...   \n28     http://data.europa.eu/a4g/resource/id_2023-S-0...   \n...                                                  ...   \n32763  http://data.europa.eu/a4g/resource/id_2023-S-0...   \n32764  http://data.europa.eu/a4g/resource/id_2023-S-0...   \n32765  http://data.europa.eu/a4g/resource/id_2023-S-0...   \n32766  http://data.europa.eu/a4g/resource/id_2023-S-0...   \n32767  http://data.europa.eu/a4g/resource/id_2023-S-0...   \n\n                                               LegalName  \\\n2                                      Huolto Hillman Oy   \n13                           UAB Jonavos šilumos tinklai   \n18                                   Fliesen Röhlich GmB   \n24                                   RINA CONSULTING SPA   \n28     IMPLANTCAST POLSKA SPÓŁKA Z OGRANICZONĄ ODPOWI...   \n...                                                  ...   \n32763                             Suffolk County Council   \n32764                   Wageningen University & Research   \n32765  UTE CIBERNOS CONSULTING, S.A.-OESIA NETWORKS, ...   \n32766  Przedsiębiorstwo Obrotu i Fabrykacji Artykułów...   \n32767                                  VMA-GETZMANN GMBH   \n\n                                               AddressId BusinessSize  \\\n2      http://data.europa.eu/a4g/resource/id_2023-S-0...          sme   \n13     http://data.europa.eu/a4g/resource/id_2023-S-0...          sme   \n18     http://data.europa.eu/a4g/resource/id_2023-S-0...          sme   \n24     http://data.europa.eu/a4g/resource/id_2023-S-0...          sme   \n28     http://data.europa.eu/a4g/resource/id_2023-S-0...          NaN   \n...                                                  ...          ...   \n32763  http://data.europa.eu/a4g/resource/id_2023-S-0...          NaN   \n32764  http://data.europa.eu/a4g/resource/id_2023-S-0...          NaN   \n32765  http://data.europa.eu/a4g/resource/id_2023-S-0...          NaN   \n32766  http://data.europa.eu/a4g/resource/id_2023-S-0...          sme   \n32767  http://data.europa.eu/a4g/resource/id_2023-S-0...          sme   \n\n      CountryCode  PostCode     PostName   Thoroughfare  FullAddress NUTSId  \\\n2             FIN       NaN    Korppinen            NaN          NaN  FI193   \n13            LTU       NaN       jonava            NaN          NaN     LT   \n18            DEU     90530  Wendelstein            NaN          NaN  DE25B   \n24            ITA       NaN       GENOVA            NaN          NaN  ITC33   \n28            POL  Warszawa     Warszawa            NaN          NaN   PL91   \n...           ...       ...          ...            ...          ...    ...   \n32763         GBR       NaN      Ipswich            NaN          NaN  UKH14   \n32764         NLD   6700 AB   Wageningen     Postbus 59          NaN     NL   \n32765         ESP       NaN       Madrid            NaN          NaN     ES   \n32766         POL    60-573       Poznań  ul. Lindego 6          NaN     PL   \n32767         DEU     51580    Reichshof            NaN          NaN  DEA2A   \n\n       ...                           NUTS1Label  \\\n2      ...                         Manner-Suomi   \n13     ...                                  NaN   \n18     ...                               Bayern   \n24     ...                           Nord-Ovest   \n28     ...  Makroregion województwo mazowieckie   \n...    ...                                  ...   \n32763  ...                      East of England   \n32764  ...                                  NaN   \n32765  ...                                  NaN   \n32766  ...                                  NaN   \n32767  ...                  Nordrhein-Westfalen   \n\n                             NUTS1LabelEng NUTS2            NUTS2Label  \\\n2                             Manner-Suomi  FI19           Länsi-Suomi   \n13                                     NaN   NaN                   NaN   \n18                                  Bayern  DE25         Mittelfranken   \n24                              Nord-Ovest  ITC3               Liguria   \n28     Makroregion województwo mazowieckie  PL91  Warszawski stołeczny   \n...                                    ...   ...                   ...   \n32763                      East of England  UKH1           East Anglia   \n32764                                  NaN   NaN                   NaN   \n32765                                  NaN   NaN                   NaN   \n32766                                  NaN   NaN                   NaN   \n32767                  Nordrhein-Westfalen  DEA2                  Köln   \n\n              NUTS2LabelEng  NUTS3            NUTS3Label  \\\n2               Länsi-Suomi  FI193           Keski-Suomi   \n13                      NaN    NaN                   NaN   \n18            Mittelfranken  DE25B                  Roth   \n24                  Liguria  ITC33                Genova   \n28     Warszawski stołeczny    NaN                   NaN   \n...                     ...    ...                   ...   \n32763           East Anglia  UKH14               Suffolk   \n32764                   NaN    NaN                   NaN   \n32765                   NaN    NaN                   NaN   \n32766                   NaN    NaN                   NaN   \n32767                  Köln  DEA2A  Oberbergischer Kreis   \n\n              NUTS3LabelEng  \\\n2               Keski-Suomi   \n13                      NaN   \n18                     Roth   \n24                   Genova   \n28                      NaN   \n...                     ...   \n32763               Suffolk   \n32764                   NaN   \n32765                   NaN   \n32766                   NaN   \n32767  Oberbergischer Kreis   \n\n                                               unique_id  \\\n2      http://data.europa.eu/a4g/resource/id_2023-S-0...   \n13     http://data.europa.eu/a4g/resource/id_2023-S-0...   \n18     http://data.europa.eu/a4g/resource/id_2023-S-0...   \n24     http://data.europa.eu/a4g/resource/id_2023-S-0...   \n28     http://data.europa.eu/a4g/resource/id_2023-S-0...   \n...                                                  ...   \n32763  http://data.europa.eu/a4g/resource/id_2023-S-0...   \n32764  http://data.europa.eu/a4g/resource/id_2023-S-0...   \n32765  http://data.europa.eu/a4g/resource/id_2023-S-0...   \n32766  http://data.europa.eu/a4g/resource/id_2023-S-0...   \n32767  http://data.europa.eu/a4g/resource/id_2023-S-0...   \n\n                                         main_cluster_id  \n2      http://data.europa.eu/a4g/resource/id_2023-S-0...  \n13     http://data.europa.eu/a4g/resource/id_2023-S-0...  \n18     http://data.europa.eu/a4g/resource/id_2023-S-0...  \n24     http://data.europa.eu/a4g/resource/id_2023-S-0...  \n28     http://data.europa.eu/a4g/resource/id_2023-S-0...  \n...                                                  ...  \n32763  http://data.europa.eu/a4g/resource/id_2023-S-0...  \n32764  http://data.europa.eu/a4g/resource/id_2023-S-0...  \n32765  http://data.europa.eu/a4g/resource/id_2023-S-0...  \n32766  http://data.europa.eu/a4g/resource/id_2023-S-0...  \n32767  http://data.europa.eu/a4g/resource/id_2023-S-0...  \n\n[32424 rows x 26 columns]",
      "text/html": "<div>\n<style scoped>\n    .dataframe tbody tr th:only-of-type {\n        vertical-align: middle;\n    }\n\n    .dataframe tbody tr th {\n        vertical-align: top;\n    }\n\n    .dataframe thead th {\n        text-align: right;\n    }\n</style>\n<table border=\"1\" class=\"dataframe\">\n  <thead>\n    <tr style=\"text-align: right;\">\n      <th></th>\n      <th>OrganizationId</th>\n      <th>LegalName</th>\n      <th>AddressId</th>\n      <th>BusinessSize</th>\n      <th>CountryCode</th>\n      <th>PostCode</th>\n      <th>PostName</th>\n      <th>Thoroughfare</th>\n      <th>FullAddress</th>\n      <th>NUTSId</th>\n      <th>...</th>\n      <th>NUTS1Label</th>\n      <th>NUTS1LabelEng</th>\n      <th>NUTS2</th>\n      <th>NUTS2Label</th>\n      <th>NUTS2LabelEng</th>\n      <th>NUTS3</th>\n      <th>NUTS3Label</th>\n      <th>NUTS3LabelEng</th>\n      <th>unique_id</th>\n      <th>main_cluster_id</th>\n    </tr>\n  </thead>\n  <tbody>\n    <tr>\n      <th>2</th>\n      <td>http://data.europa.eu/a4g/resource/id_2023-S-0...</td>\n      <td>Huolto Hillman Oy</td>\n      <td>http://data.europa.eu/a4g/resource/id_2023-S-0...</td>\n      <td>sme</td>\n      <td>FIN</td>\n      <td>NaN</td>\n      <td>Korppinen</td>\n      <td>NaN</td>\n      <td>NaN</td>\n      <td>FI193</td>\n      <td>...</td>\n      <td>Manner-Suomi</td>\n      <td>Manner-Suomi</td>\n      <td>FI19</td>\n      <td>Länsi-Suomi</td>\n      <td>Länsi-Suomi</td>\n      <td>FI193</td>\n      <td>Keski-Suomi</td>\n      <td>Keski-Suomi</td>\n      <td>http://data.europa.eu/a4g/resource/id_2023-S-0...</td>\n      <td>http://data.europa.eu/a4g/resource/id_2023-S-0...</td>\n    </tr>\n    <tr>\n      <th>13</th>\n      <td>http://data.europa.eu/a4g/resource/id_2023-S-0...</td>\n      <td>UAB Jonavos šilumos tinklai</td>\n      <td>http://data.europa.eu/a4g/resource/id_2023-S-0...</td>\n      <td>sme</td>\n      <td>LTU</td>\n      <td>NaN</td>\n      <td>jonava</td>\n      <td>NaN</td>\n      <td>NaN</td>\n      <td>LT</td>\n      <td>...</td>\n      <td>NaN</td>\n      <td>NaN</td>\n      <td>NaN</td>\n      <td>NaN</td>\n      <td>NaN</td>\n      <td>NaN</td>\n      <td>NaN</td>\n      <td>NaN</td>\n      <td>http://data.europa.eu/a4g/resource/id_2023-S-0...</td>\n      <td>http://data.europa.eu/a4g/resource/id_2023-S-0...</td>\n    </tr>\n    <tr>\n      <th>18</th>\n      <td>http://data.europa.eu/a4g/resource/id_2023-S-0...</td>\n      <td>Fliesen Röhlich GmB</td>\n      <td>http://data.europa.eu/a4g/resource/id_2023-S-0...</td>\n      <td>sme</td>\n      <td>DEU</td>\n      <td>90530</td>\n      <td>Wendelstein</td>\n      <td>NaN</td>\n      <td>NaN</td>\n      <td>DE25B</td>\n      <td>...</td>\n      <td>Bayern</td>\n      <td>Bayern</td>\n      <td>DE25</td>\n      <td>Mittelfranken</td>\n      <td>Mittelfranken</td>\n      <td>DE25B</td>\n      <td>Roth</td>\n      <td>Roth</td>\n      <td>http://data.europa.eu/a4g/resource/id_2023-S-0...</td>\n      <td>http://data.europa.eu/a4g/resource/id_2023-S-0...</td>\n    </tr>\n    <tr>\n      <th>24</th>\n      <td>http://data.europa.eu/a4g/resource/id_2023-S-0...</td>\n      <td>RINA CONSULTING SPA</td>\n      <td>http://data.europa.eu/a4g/resource/id_2023-S-0...</td>\n      <td>sme</td>\n      <td>ITA</td>\n      <td>NaN</td>\n      <td>GENOVA</td>\n      <td>NaN</td>\n      <td>NaN</td>\n      <td>ITC33</td>\n      <td>...</td>\n      <td>Nord-Ovest</td>\n      <td>Nord-Ovest</td>\n      <td>ITC3</td>\n      <td>Liguria</td>\n      <td>Liguria</td>\n      <td>ITC33</td>\n      <td>Genova</td>\n      <td>Genova</td>\n      <td>http://data.europa.eu/a4g/resource/id_2023-S-0...</td>\n      <td>http://data.europa.eu/a4g/resource/id_2023-S-0...</td>\n    </tr>\n    <tr>\n      <th>28</th>\n      <td>http://data.europa.eu/a4g/resource/id_2023-S-0...</td>\n      <td>IMPLANTCAST POLSKA SPÓŁKA Z OGRANICZONĄ ODPOWI...</td>\n      <td>http://data.europa.eu/a4g/resource/id_2023-S-0...</td>\n      <td>NaN</td>\n      <td>POL</td>\n      <td>Warszawa</td>\n      <td>Warszawa</td>\n      <td>NaN</td>\n      <td>NaN</td>\n      <td>PL91</td>\n      <td>...</td>\n      <td>Makroregion województwo mazowieckie</td>\n      <td>Makroregion województwo mazowieckie</td>\n      <td>PL91</td>\n      <td>Warszawski stołeczny</td>\n      <td>Warszawski stołeczny</td>\n      <td>NaN</td>\n      <td>NaN</td>\n      <td>NaN</td>\n      <td>http://data.europa.eu/a4g/resource/id_2023-S-0...</td>\n      <td>http://data.europa.eu/a4g/resource/id_2023-S-0...</td>\n    </tr>\n    <tr>\n      <th>...</th>\n      <td>...</td>\n      <td>...</td>\n      <td>...</td>\n      <td>...</td>\n      <td>...</td>\n      <td>...</td>\n      <td>...</td>\n      <td>...</td>\n      <td>...</td>\n      <td>...</td>\n      <td>...</td>\n      <td>...</td>\n      <td>...</td>\n      <td>...</td>\n      <td>...</td>\n      <td>...</td>\n      <td>...</td>\n      <td>...</td>\n      <td>...</td>\n      <td>...</td>\n      <td>...</td>\n    </tr>\n    <tr>\n      <th>32763</th>\n      <td>http://data.europa.eu/a4g/resource/id_2023-S-0...</td>\n      <td>Suffolk County Council</td>\n      <td>http://data.europa.eu/a4g/resource/id_2023-S-0...</td>\n      <td>NaN</td>\n      <td>GBR</td>\n      <td>NaN</td>\n      <td>Ipswich</td>\n      <td>NaN</td>\n      <td>NaN</td>\n      <td>UKH14</td>\n      <td>...</td>\n      <td>East of England</td>\n      <td>East of England</td>\n      <td>UKH1</td>\n      <td>East Anglia</td>\n      <td>East Anglia</td>\n      <td>UKH14</td>\n      <td>Suffolk</td>\n      <td>Suffolk</td>\n      <td>http://data.europa.eu/a4g/resource/id_2023-S-0...</td>\n      <td>http://data.europa.eu/a4g/resource/id_2023-S-0...</td>\n    </tr>\n    <tr>\n      <th>32764</th>\n      <td>http://data.europa.eu/a4g/resource/id_2023-S-0...</td>\n      <td>Wageningen University &amp; Research</td>\n      <td>http://data.europa.eu/a4g/resource/id_2023-S-0...</td>\n      <td>NaN</td>\n      <td>NLD</td>\n      <td>6700 AB</td>\n      <td>Wageningen</td>\n      <td>Postbus 59</td>\n      <td>NaN</td>\n      <td>NL</td>\n      <td>...</td>\n      <td>NaN</td>\n      <td>NaN</td>\n      <td>NaN</td>\n      <td>NaN</td>\n      <td>NaN</td>\n      <td>NaN</td>\n      <td>NaN</td>\n      <td>NaN</td>\n      <td>http://data.europa.eu/a4g/resource/id_2023-S-0...</td>\n      <td>http://data.europa.eu/a4g/resource/id_2023-S-0...</td>\n    </tr>\n    <tr>\n      <th>32765</th>\n      <td>http://data.europa.eu/a4g/resource/id_2023-S-0...</td>\n      <td>UTE CIBERNOS CONSULTING, S.A.-OESIA NETWORKS, ...</td>\n      <td>http://data.europa.eu/a4g/resource/id_2023-S-0...</td>\n      <td>NaN</td>\n      <td>ESP</td>\n      <td>NaN</td>\n      <td>Madrid</td>\n      <td>NaN</td>\n      <td>NaN</td>\n      <td>ES</td>\n      <td>...</td>\n      <td>NaN</td>\n      <td>NaN</td>\n      <td>NaN</td>\n      <td>NaN</td>\n      <td>NaN</td>\n      <td>NaN</td>\n      <td>NaN</td>\n      <td>NaN</td>\n      <td>http://data.europa.eu/a4g/resource/id_2023-S-0...</td>\n      <td>http://data.europa.eu/a4g/resource/id_2023-S-0...</td>\n    </tr>\n    <tr>\n      <th>32766</th>\n      <td>http://data.europa.eu/a4g/resource/id_2023-S-0...</td>\n      <td>Przedsiębiorstwo Obrotu i Fabrykacji Artykułów...</td>\n      <td>http://data.europa.eu/a4g/resource/id_2023-S-0...</td>\n      <td>sme</td>\n      <td>POL</td>\n      <td>60-573</td>\n      <td>Poznań</td>\n      <td>ul. Lindego 6</td>\n      <td>NaN</td>\n      <td>PL</td>\n      <td>...</td>\n      <td>NaN</td>\n      <td>NaN</td>\n      <td>NaN</td>\n      <td>NaN</td>\n      <td>NaN</td>\n      <td>NaN</td>\n      <td>NaN</td>\n      <td>NaN</td>\n      <td>http://data.europa.eu/a4g/resource/id_2023-S-0...</td>\n      <td>http://data.europa.eu/a4g/resource/id_2023-S-0...</td>\n    </tr>\n    <tr>\n      <th>32767</th>\n      <td>http://data.europa.eu/a4g/resource/id_2023-S-0...</td>\n      <td>VMA-GETZMANN GMBH</td>\n      <td>http://data.europa.eu/a4g/resource/id_2023-S-0...</td>\n      <td>sme</td>\n      <td>DEU</td>\n      <td>51580</td>\n      <td>Reichshof</td>\n      <td>NaN</td>\n      <td>NaN</td>\n      <td>DEA2A</td>\n      <td>...</td>\n      <td>Nordrhein-Westfalen</td>\n      <td>Nordrhein-Westfalen</td>\n      <td>DEA2</td>\n      <td>Köln</td>\n      <td>Köln</td>\n      <td>DEA2A</td>\n      <td>Oberbergischer Kreis</td>\n      <td>Oberbergischer Kreis</td>\n      <td>http://data.europa.eu/a4g/resource/id_2023-S-0...</td>\n      <td>http://data.europa.eu/a4g/resource/id_2023-S-0...</td>\n    </tr>\n  </tbody>\n</table>\n<p>32424 rows × 26 columns</p>\n</div>"
     },
     "execution_count": 267,
     "metadata": {},
     "output_type": "execute_result"
    }
   ],
   "source": [
    "new_data[~new_data[\"unique_id\"].isin(df_predict_result[\"unique_id_l\"].unique().tolist())]"
   ],
   "metadata": {
    "collapsed": false,
    "ExecuteTime": {
     "end_time": "2023-06-18T15:54:22.701211Z",
     "start_time": "2023-06-18T15:54:22.659607Z"
    }
   }
  },
  {
   "cell_type": "code",
   "execution_count": 278,
   "outputs": [
    {
     "data": {
      "text/plain": "21330"
     },
     "execution_count": 278,
     "metadata": {},
     "output_type": "execute_result"
    }
   ],
   "source": [
    "len(new_data[\"LegalName\"].value_counts().index)"
   ],
   "metadata": {
    "collapsed": false,
    "ExecuteTime": {
     "end_time": "2023-06-18T16:00:54.140673Z",
     "start_time": "2023-06-18T16:00:54.137154Z"
    }
   }
  },
  {
   "cell_type": "code",
   "execution_count": null,
   "outputs": [],
   "source": [],
   "metadata": {
    "collapsed": false
   }
  },
  {
   "cell_type": "code",
   "execution_count": 285,
   "outputs": [],
   "source": [
    "tmp_df = pd.DataFrame([{\"a\":\"l1\", \"w\": 0.1, \"b\":\"c1\"},\n",
    "                       {\"a\":\"l1\", \"w\": 0.4, \"b\":\"c1\"},\n",
    "                       {\"a\":\"l1\", \"w\": 0.3, \"b\":\"c2\"},\n",
    "                       {\"a\":\"l2\", \"w\": 0.4, \"b\":\"c3\"}\n",
    "                       ])"
   ],
   "metadata": {
    "collapsed": false,
    "ExecuteTime": {
     "end_time": "2023-06-18T16:15:06.648069Z",
     "start_time": "2023-06-18T16:15:06.641491Z"
    }
   }
  },
  {
   "cell_type": "code",
   "execution_count": 299,
   "outputs": [
    {
     "data": {
      "text/plain": "     b    w\na          \nl1  c2  0.5\nl2  c3  0.4",
      "text/html": "<div>\n<style scoped>\n    .dataframe tbody tr th:only-of-type {\n        vertical-align: middle;\n    }\n\n    .dataframe tbody tr th {\n        vertical-align: top;\n    }\n\n    .dataframe thead th {\n        text-align: right;\n    }\n</style>\n<table border=\"1\" class=\"dataframe\">\n  <thead>\n    <tr style=\"text-align: right;\">\n      <th></th>\n      <th>b</th>\n      <th>w</th>\n    </tr>\n    <tr>\n      <th>a</th>\n      <th></th>\n      <th></th>\n    </tr>\n  </thead>\n  <tbody>\n    <tr>\n      <th>l1</th>\n      <td>c2</td>\n      <td>0.5</td>\n    </tr>\n    <tr>\n      <th>l2</th>\n      <td>c3</td>\n      <td>0.4</td>\n    </tr>\n  </tbody>\n</table>\n</div>"
     },
     "execution_count": 299,
     "metadata": {},
     "output_type": "execute_result"
    }
   ],
   "source": [
    "tmp_df.groupby([\"a\",\"b\"]).sum().reset_index(level=[0,1]).groupby(\"a\").max()"
   ],
   "metadata": {
    "collapsed": false,
    "ExecuteTime": {
     "end_time": "2023-06-18T16:20:23.699256Z",
     "start_time": "2023-06-18T16:20:23.697247Z"
    }
   }
  },
  {
   "cell_type": "code",
   "execution_count": 49,
   "outputs": [
    {
     "name": "stderr",
     "output_type": "stream",
     "text": [
      "Completed iteration 1, root rows count 2\n",
      "Completed iteration 2, root rows count 0\n"
     ]
    }
   ],
   "source": [
    "clusters = linker.cluster_pairwise_predictions_at_threshold(df_predictions, threshold_match_probability=0.8)\n",
    "result_clusters = clusters.as_pandas_dataframe()"
   ],
   "metadata": {
    "collapsed": false,
    "ExecuteTime": {
     "end_time": "2023-06-14T19:45:42.841607Z",
     "start_time": "2023-06-14T19:45:42.649238Z"
    }
   }
  },
  {
   "cell_type": "code",
   "execution_count": 53,
   "outputs": [],
   "source": [
    "clusters = result_clusters.groupby(\"cluster_id\")"
   ],
   "metadata": {
    "collapsed": false,
    "ExecuteTime": {
     "end_time": "2023-06-14T19:46:51.106672Z",
     "start_time": "2023-06-14T19:46:51.104545Z"
    }
   }
  },
  {
   "cell_type": "code",
   "execution_count": null,
   "outputs": [],
   "source": [
    "def"
   ],
   "metadata": {
    "collapsed": false
   }
  },
  {
   "cell_type": "code",
   "execution_count": null,
   "outputs": [],
   "source": [
    "def clean_data(data: pd.DataFrame, )"
   ],
   "metadata": {
    "collapsed": false
   }
  },
  {
   "cell_type": "code",
   "execution_count": 122,
   "outputs": [],
   "source": [
    "def merge_cluster_to_single_representation(cluster_df: pd.DataFrame) -> dict:\n",
    "    cluster_column_names = cluster_df.columns\n",
    "    result_dict = {}\n",
    "    for column_name in cluster_column_names:\n",
    "        candidate_column_value = cluster_df[column_name].value_counts().sort_values(ascending=False).head(\n",
    "            1).index.to_list()\n",
    "        if len(candidate_column_value) == 1:\n",
    "            result_dict[column_name] = candidate_column_value[0]\n",
    "        else:\n",
    "            result_dict[column_name] = None\n",
    "    return result_dict"
   ],
   "metadata": {
    "collapsed": false,
    "ExecuteTime": {
     "end_time": "2023-06-15T12:21:31.826274Z",
     "start_time": "2023-06-15T12:21:31.822735Z"
    }
   }
  },
  {
   "cell_type": "code",
   "execution_count": 126,
   "outputs": [],
   "source": [
    "result_merged_clusters = [merge_cluster_to_single_representation(cluster) for cluster_id, cluster in clusters]\n",
    "result_merged_clusters_df = pd.DataFrame(result_merged_clusters)"
   ],
   "metadata": {
    "collapsed": false,
    "ExecuteTime": {
     "end_time": "2023-06-15T12:34:37.283660Z",
     "start_time": "2023-06-15T12:33:48.765767Z"
    }
   }
  },
  {
   "cell_type": "code",
   "execution_count": 127,
   "outputs": [
    {
     "data": {
      "text/plain": "                                              cluster_id  \\\n0      http://data.europa.eu/a4g/resource/id_2023-S-0...   \n1      http://data.europa.eu/a4g/resource/id_2023-S-0...   \n2      http://data.europa.eu/a4g/resource/id_2023-S-0...   \n3      http://data.europa.eu/a4g/resource/id_2023-S-0...   \n4      http://data.europa.eu/a4g/resource/id_2023-S-0...   \n...                                                  ...   \n23082  http://data.europa.eu/a4g/resource/id_2023-S-0...   \n23083  http://data.europa.eu/a4g/resource/id_2023-S-0...   \n23084  http://data.europa.eu/a4g/resource/id_2023-S-0...   \n23085  http://data.europa.eu/a4g/resource/id_2023-S-0...   \n23086  http://data.europa.eu/a4g/resource/id_2023-S-0...   \n\n                                          OrganizationId  \\\n0      http://data.europa.eu/a4g/resource/id_2023-S-0...   \n1      http://data.europa.eu/a4g/resource/id_2023-S-0...   \n2      http://data.europa.eu/a4g/resource/id_2023-S-0...   \n3      http://data.europa.eu/a4g/resource/id_2023-S-0...   \n4      http://data.europa.eu/a4g/resource/id_2023-S-0...   \n...                                                  ...   \n23082  http://data.europa.eu/a4g/resource/id_2023-S-0...   \n23083  http://data.europa.eu/a4g/resource/id_2023-S-0...   \n23084  http://data.europa.eu/a4g/resource/id_2023-S-0...   \n23085  http://data.europa.eu/a4g/resource/id_2023-S-0...   \n23086  http://data.europa.eu/a4g/resource/id_2023-S-0...   \n\n                                               LegalName  \\\n0                                     ΖΑΡΑΪΔΩΝΗΣ ΧΡΗΣΤΟΣ   \n1                                        ΑΛΕΞΙΟΥ ΙΩΑΝΝΗΣ   \n2      ΕΝΩΣΗ ΜΑΚΕΔΟΝΙΑΣ ΑΝΩΝΥΜΗ ΜΕΤΑΦΟΡΙΚΗ ΕΤΑΙΡΕΙΑ Α...   \n3      ΗΛΕΚΤΡΟΝΙΚΟΣ ΕΘΝΙΚΟΣ ΦΟΡΕΑΣ ΚΟΙΝΩΝΙΚΗΣ ΑΣΦΑΛΙΣ...   \n4                                        МУСАЛА- 88 ЕООД   \n...                                                  ...   \n23082                   Djurambulansen Jonas Tysklind AB   \n23083                       SVENSKA HUNDSKYDDSFÖRENINGEN   \n23084                       LÄNSSTYRELSEN I HALLANDS LÄN   \n23085                                         AWP s.r.o.   \n23086  Krajská správa a údržba silnic Vysočiny, přísp...   \n\n                                               AddressId BusinessSize  \\\n0      http://data.europa.eu/a4g/resource/id_2023-S-0...         None   \n1      http://data.europa.eu/a4g/resource/id_2023-S-0...         None   \n2      http://data.europa.eu/a4g/resource/id_2023-S-0...         None   \n3      http://data.europa.eu/a4g/resource/id_2023-S-0...         None   \n4      http://data.europa.eu/a4g/resource/id_2023-S-0...         None   \n...                                                  ...          ...   \n23082  http://data.europa.eu/a4g/resource/id_2023-S-0...          sme   \n23083  http://data.europa.eu/a4g/resource/id_2023-S-0...          sme   \n23084  http://data.europa.eu/a4g/resource/id_2023-S-0...         None   \n23085  http://data.europa.eu/a4g/resource/id_2023-S-0...          sme   \n23086  http://data.europa.eu/a4g/resource/id_2023-S-0...         None   \n\n      CountryCode PostCode          PostName          Thoroughfare  \\\n0             GRC    19300       ΑΣΠΡΟΠΥΡΓΟΣ          ΘΕΣΗ ΚΟΥΤΑΛΑ   \n1             GRC    10683             ΑΘΗΝΑ    ΣΠΥΡΟΥ ΤΡΙΚΟΥΠΗ 44   \n2             GRC    17778            ΤΑΥΡΟΣ                ΗΡΑΣ 4   \n3             GRC   106 71             ΑΘΗΝΑ          ΑΚΑΔΗΜΙΑΣ 22   \n4             BGR     2781   с. Горно Краище         без улица №.0   \n...           ...      ...               ...                   ...   \n23082         SWE    26994            BÅSTAD      Häljarpsvägen 83   \n23083         SWE    16838            BROMMA  Åkeshovs Gårdsväg 10   \n23084         SWE    30186          HALMSTAD         Slottsgatan 2   \n23085         CZE   252 42  Jesenice u Prahy           Okružní 635   \n23086         CZE   586 01           Jihlava      Kosovská 1122/16   \n\n      FullAddress  ... NUTS1                            NUTS1Label  \\\n0            None  ...   EL3                                Αττική   \n1            None  ...   EL3                                Αττική   \n2            None  ...   EL3                                Αττική   \n3            None  ...   EL3                                Αττική   \n4            None  ...   BG4  Югозападна и Южна централна България   \n...           ...  ...   ...                                   ...   \n23082        None  ...   SE2                         Södra Sverige   \n23083        None  ...   SE2                         Södra Sverige   \n23084        None  ...   SE2                         Södra Sverige   \n23085        None  ...  None                                  None   \n23086        None  ...   CZ0                                 Česko   \n\n                                  NUTS1LabelEng NUTS2   NUTS2Label  \\\n0                                        Attiki  EL30       Aττική   \n1                                        Attiki  EL30       Aττική   \n2                                        Attiki  EL30       Aττική   \n3                                        Attiki  EL30       Aττική   \n4      Yugozapadna i Yuzhna tsentralna Bulgaria  BG41   Югозападен   \n...                                         ...   ...          ...   \n23082                             Södra Sverige  SE23  Västsverige   \n23083                             Södra Sverige  SE23  Västsverige   \n23084                             Södra Sverige  SE23  Västsverige   \n23085                                      None  None         None   \n23086                                     Česko  CZ06   Jihovýchod   \n\n      NUTS2LabelEng  NUTS3               NUTS3Label             NUTS3LabelEng  \\\n0            Attiki  EL306            Δυτική Αττική             Dytiki Attiki   \n1            Attiki  EL303  Κεντρικός Τομέας Αθηνών  Kentrikos Tomeas Athinon   \n2            Attiki  EL303  Κεντρικός Τομέας Αθηνών  Kentrikos Tomeas Athinon   \n3            Attiki  EL303  Κεντρικός Τομέας Αθηνών  Kentrikos Tomeas Athinon   \n4       Yugozapaden   None                     None                      None   \n...             ...    ...                      ...                       ...   \n23082   Västsverige   None                     None                      None   \n23083   Västsverige   None                     None                      None   \n23084   Västsverige  SE231             Hallands län              Hallands län   \n23085          None   None                     None                      None   \n23086    Jihovýchod  CZ063            Kraj Vysočina             Kraj Vysočina   \n\n                                               unique_id  \n0      http://data.europa.eu/a4g/resource/id_2023-S-0...  \n1      http://data.europa.eu/a4g/resource/id_2023-S-0...  \n2      http://data.europa.eu/a4g/resource/id_2023-S-0...  \n3      http://data.europa.eu/a4g/resource/id_2023-S-0...  \n4      http://data.europa.eu/a4g/resource/id_2023-S-0...  \n...                                                  ...  \n23082  http://data.europa.eu/a4g/resource/id_2023-S-0...  \n23083  http://data.europa.eu/a4g/resource/id_2023-S-0...  \n23084  http://data.europa.eu/a4g/resource/id_2023-S-0...  \n23085  http://data.europa.eu/a4g/resource/id_2023-S-0...  \n23086  http://data.europa.eu/a4g/resource/id_2023-S-0...  \n\n[23087 rows x 26 columns]",
      "text/html": "<div>\n<style scoped>\n    .dataframe tbody tr th:only-of-type {\n        vertical-align: middle;\n    }\n\n    .dataframe tbody tr th {\n        vertical-align: top;\n    }\n\n    .dataframe thead th {\n        text-align: right;\n    }\n</style>\n<table border=\"1\" class=\"dataframe\">\n  <thead>\n    <tr style=\"text-align: right;\">\n      <th></th>\n      <th>cluster_id</th>\n      <th>OrganizationId</th>\n      <th>LegalName</th>\n      <th>AddressId</th>\n      <th>BusinessSize</th>\n      <th>CountryCode</th>\n      <th>PostCode</th>\n      <th>PostName</th>\n      <th>Thoroughfare</th>\n      <th>FullAddress</th>\n      <th>...</th>\n      <th>NUTS1</th>\n      <th>NUTS1Label</th>\n      <th>NUTS1LabelEng</th>\n      <th>NUTS2</th>\n      <th>NUTS2Label</th>\n      <th>NUTS2LabelEng</th>\n      <th>NUTS3</th>\n      <th>NUTS3Label</th>\n      <th>NUTS3LabelEng</th>\n      <th>unique_id</th>\n    </tr>\n  </thead>\n  <tbody>\n    <tr>\n      <th>0</th>\n      <td>http://data.europa.eu/a4g/resource/id_2023-S-0...</td>\n      <td>http://data.europa.eu/a4g/resource/id_2023-S-0...</td>\n      <td>ΖΑΡΑΪΔΩΝΗΣ ΧΡΗΣΤΟΣ</td>\n      <td>http://data.europa.eu/a4g/resource/id_2023-S-0...</td>\n      <td>None</td>\n      <td>GRC</td>\n      <td>19300</td>\n      <td>ΑΣΠΡΟΠΥΡΓΟΣ</td>\n      <td>ΘΕΣΗ ΚΟΥΤΑΛΑ</td>\n      <td>None</td>\n      <td>...</td>\n      <td>EL3</td>\n      <td>Αττική</td>\n      <td>Attiki</td>\n      <td>EL30</td>\n      <td>Aττική</td>\n      <td>Attiki</td>\n      <td>EL306</td>\n      <td>Δυτική Αττική</td>\n      <td>Dytiki Attiki</td>\n      <td>http://data.europa.eu/a4g/resource/id_2023-S-0...</td>\n    </tr>\n    <tr>\n      <th>1</th>\n      <td>http://data.europa.eu/a4g/resource/id_2023-S-0...</td>\n      <td>http://data.europa.eu/a4g/resource/id_2023-S-0...</td>\n      <td>ΑΛΕΞΙΟΥ ΙΩΑΝΝΗΣ</td>\n      <td>http://data.europa.eu/a4g/resource/id_2023-S-0...</td>\n      <td>None</td>\n      <td>GRC</td>\n      <td>10683</td>\n      <td>ΑΘΗΝΑ</td>\n      <td>ΣΠΥΡΟΥ ΤΡΙΚΟΥΠΗ 44</td>\n      <td>None</td>\n      <td>...</td>\n      <td>EL3</td>\n      <td>Αττική</td>\n      <td>Attiki</td>\n      <td>EL30</td>\n      <td>Aττική</td>\n      <td>Attiki</td>\n      <td>EL303</td>\n      <td>Κεντρικός Τομέας Αθηνών</td>\n      <td>Kentrikos Tomeas Athinon</td>\n      <td>http://data.europa.eu/a4g/resource/id_2023-S-0...</td>\n    </tr>\n    <tr>\n      <th>2</th>\n      <td>http://data.europa.eu/a4g/resource/id_2023-S-0...</td>\n      <td>http://data.europa.eu/a4g/resource/id_2023-S-0...</td>\n      <td>ΕΝΩΣΗ ΜΑΚΕΔΟΝΙΑΣ ΑΝΩΝΥΜΗ ΜΕΤΑΦΟΡΙΚΗ ΕΤΑΙΡΕΙΑ Α...</td>\n      <td>http://data.europa.eu/a4g/resource/id_2023-S-0...</td>\n      <td>None</td>\n      <td>GRC</td>\n      <td>17778</td>\n      <td>ΤΑΥΡΟΣ</td>\n      <td>ΗΡΑΣ 4</td>\n      <td>None</td>\n      <td>...</td>\n      <td>EL3</td>\n      <td>Αττική</td>\n      <td>Attiki</td>\n      <td>EL30</td>\n      <td>Aττική</td>\n      <td>Attiki</td>\n      <td>EL303</td>\n      <td>Κεντρικός Τομέας Αθηνών</td>\n      <td>Kentrikos Tomeas Athinon</td>\n      <td>http://data.europa.eu/a4g/resource/id_2023-S-0...</td>\n    </tr>\n    <tr>\n      <th>3</th>\n      <td>http://data.europa.eu/a4g/resource/id_2023-S-0...</td>\n      <td>http://data.europa.eu/a4g/resource/id_2023-S-0...</td>\n      <td>ΗΛΕΚΤΡΟΝΙΚΟΣ ΕΘΝΙΚΟΣ ΦΟΡΕΑΣ ΚΟΙΝΩΝΙΚΗΣ ΑΣΦΑΛΙΣ...</td>\n      <td>http://data.europa.eu/a4g/resource/id_2023-S-0...</td>\n      <td>None</td>\n      <td>GRC</td>\n      <td>106 71</td>\n      <td>ΑΘΗΝΑ</td>\n      <td>ΑΚΑΔΗΜΙΑΣ 22</td>\n      <td>None</td>\n      <td>...</td>\n      <td>EL3</td>\n      <td>Αττική</td>\n      <td>Attiki</td>\n      <td>EL30</td>\n      <td>Aττική</td>\n      <td>Attiki</td>\n      <td>EL303</td>\n      <td>Κεντρικός Τομέας Αθηνών</td>\n      <td>Kentrikos Tomeas Athinon</td>\n      <td>http://data.europa.eu/a4g/resource/id_2023-S-0...</td>\n    </tr>\n    <tr>\n      <th>4</th>\n      <td>http://data.europa.eu/a4g/resource/id_2023-S-0...</td>\n      <td>http://data.europa.eu/a4g/resource/id_2023-S-0...</td>\n      <td>МУСАЛА- 88 ЕООД</td>\n      <td>http://data.europa.eu/a4g/resource/id_2023-S-0...</td>\n      <td>None</td>\n      <td>BGR</td>\n      <td>2781</td>\n      <td>с. Горно Краище</td>\n      <td>без улица №.0</td>\n      <td>None</td>\n      <td>...</td>\n      <td>BG4</td>\n      <td>Югозападна и Южна централна България</td>\n      <td>Yugozapadna i Yuzhna tsentralna Bulgaria</td>\n      <td>BG41</td>\n      <td>Югозападен</td>\n      <td>Yugozapaden</td>\n      <td>None</td>\n      <td>None</td>\n      <td>None</td>\n      <td>http://data.europa.eu/a4g/resource/id_2023-S-0...</td>\n    </tr>\n    <tr>\n      <th>...</th>\n      <td>...</td>\n      <td>...</td>\n      <td>...</td>\n      <td>...</td>\n      <td>...</td>\n      <td>...</td>\n      <td>...</td>\n      <td>...</td>\n      <td>...</td>\n      <td>...</td>\n      <td>...</td>\n      <td>...</td>\n      <td>...</td>\n      <td>...</td>\n      <td>...</td>\n      <td>...</td>\n      <td>...</td>\n      <td>...</td>\n      <td>...</td>\n      <td>...</td>\n      <td>...</td>\n    </tr>\n    <tr>\n      <th>23082</th>\n      <td>http://data.europa.eu/a4g/resource/id_2023-S-0...</td>\n      <td>http://data.europa.eu/a4g/resource/id_2023-S-0...</td>\n      <td>Djurambulansen Jonas Tysklind AB</td>\n      <td>http://data.europa.eu/a4g/resource/id_2023-S-0...</td>\n      <td>sme</td>\n      <td>SWE</td>\n      <td>26994</td>\n      <td>BÅSTAD</td>\n      <td>Häljarpsvägen 83</td>\n      <td>None</td>\n      <td>...</td>\n      <td>SE2</td>\n      <td>Södra Sverige</td>\n      <td>Södra Sverige</td>\n      <td>SE23</td>\n      <td>Västsverige</td>\n      <td>Västsverige</td>\n      <td>None</td>\n      <td>None</td>\n      <td>None</td>\n      <td>http://data.europa.eu/a4g/resource/id_2023-S-0...</td>\n    </tr>\n    <tr>\n      <th>23083</th>\n      <td>http://data.europa.eu/a4g/resource/id_2023-S-0...</td>\n      <td>http://data.europa.eu/a4g/resource/id_2023-S-0...</td>\n      <td>SVENSKA HUNDSKYDDSFÖRENINGEN</td>\n      <td>http://data.europa.eu/a4g/resource/id_2023-S-0...</td>\n      <td>sme</td>\n      <td>SWE</td>\n      <td>16838</td>\n      <td>BROMMA</td>\n      <td>Åkeshovs Gårdsväg 10</td>\n      <td>None</td>\n      <td>...</td>\n      <td>SE2</td>\n      <td>Södra Sverige</td>\n      <td>Södra Sverige</td>\n      <td>SE23</td>\n      <td>Västsverige</td>\n      <td>Västsverige</td>\n      <td>None</td>\n      <td>None</td>\n      <td>None</td>\n      <td>http://data.europa.eu/a4g/resource/id_2023-S-0...</td>\n    </tr>\n    <tr>\n      <th>23084</th>\n      <td>http://data.europa.eu/a4g/resource/id_2023-S-0...</td>\n      <td>http://data.europa.eu/a4g/resource/id_2023-S-0...</td>\n      <td>LÄNSSTYRELSEN I HALLANDS LÄN</td>\n      <td>http://data.europa.eu/a4g/resource/id_2023-S-0...</td>\n      <td>None</td>\n      <td>SWE</td>\n      <td>30186</td>\n      <td>HALMSTAD</td>\n      <td>Slottsgatan 2</td>\n      <td>None</td>\n      <td>...</td>\n      <td>SE2</td>\n      <td>Södra Sverige</td>\n      <td>Södra Sverige</td>\n      <td>SE23</td>\n      <td>Västsverige</td>\n      <td>Västsverige</td>\n      <td>SE231</td>\n      <td>Hallands län</td>\n      <td>Hallands län</td>\n      <td>http://data.europa.eu/a4g/resource/id_2023-S-0...</td>\n    </tr>\n    <tr>\n      <th>23085</th>\n      <td>http://data.europa.eu/a4g/resource/id_2023-S-0...</td>\n      <td>http://data.europa.eu/a4g/resource/id_2023-S-0...</td>\n      <td>AWP s.r.o.</td>\n      <td>http://data.europa.eu/a4g/resource/id_2023-S-0...</td>\n      <td>sme</td>\n      <td>CZE</td>\n      <td>252 42</td>\n      <td>Jesenice u Prahy</td>\n      <td>Okružní 635</td>\n      <td>None</td>\n      <td>...</td>\n      <td>None</td>\n      <td>None</td>\n      <td>None</td>\n      <td>None</td>\n      <td>None</td>\n      <td>None</td>\n      <td>None</td>\n      <td>None</td>\n      <td>None</td>\n      <td>http://data.europa.eu/a4g/resource/id_2023-S-0...</td>\n    </tr>\n    <tr>\n      <th>23086</th>\n      <td>http://data.europa.eu/a4g/resource/id_2023-S-0...</td>\n      <td>http://data.europa.eu/a4g/resource/id_2023-S-0...</td>\n      <td>Krajská správa a údržba silnic Vysočiny, přísp...</td>\n      <td>http://data.europa.eu/a4g/resource/id_2023-S-0...</td>\n      <td>None</td>\n      <td>CZE</td>\n      <td>586 01</td>\n      <td>Jihlava</td>\n      <td>Kosovská 1122/16</td>\n      <td>None</td>\n      <td>...</td>\n      <td>CZ0</td>\n      <td>Česko</td>\n      <td>Česko</td>\n      <td>CZ06</td>\n      <td>Jihovýchod</td>\n      <td>Jihovýchod</td>\n      <td>CZ063</td>\n      <td>Kraj Vysočina</td>\n      <td>Kraj Vysočina</td>\n      <td>http://data.europa.eu/a4g/resource/id_2023-S-0...</td>\n    </tr>\n  </tbody>\n</table>\n<p>23087 rows × 26 columns</p>\n</div>"
     },
     "execution_count": 127,
     "metadata": {},
     "output_type": "execute_result"
    }
   ],
   "source": [
    "result_merged_clusters_df"
   ],
   "metadata": {
    "collapsed": false,
    "ExecuteTime": {
     "end_time": "2023-06-15T12:34:37.300499Z",
     "start_time": "2023-06-15T12:34:37.286248Z"
    }
   }
  },
  {
   "cell_type": "code",
   "execution_count": 143,
   "outputs": [],
   "source": [
    "result_merged_clusters_df[\"unique_id\"] = result_merged_clusters_df[\"cluster_id\"]"
   ],
   "metadata": {
    "collapsed": false,
    "ExecuteTime": {
     "end_time": "2023-06-15T13:08:28.542662Z",
     "start_time": "2023-06-15T13:08:28.539927Z"
    }
   }
  },
  {
   "cell_type": "code",
   "execution_count": 144,
   "outputs": [],
   "source": [
    "linker_only = DuckDBLinker(input_table_or_tables=[organizations_duplicates, result_merged_clusters_df],\n",
    "                           settings_dict=new_settings)"
   ],
   "metadata": {
    "collapsed": false,
    "ExecuteTime": {
     "end_time": "2023-06-15T13:08:30.794150Z",
     "start_time": "2023-06-15T13:08:30.752625Z"
    }
   }
  },
  {
   "cell_type": "code",
   "execution_count": 145,
   "outputs": [],
   "source": [
    "df_predict = linker.predict(threshold_match_probability=0.8)"
   ],
   "metadata": {
    "collapsed": false,
    "ExecuteTime": {
     "end_time": "2023-06-15T13:08:33.126708Z",
     "start_time": "2023-06-15T13:08:33.116520Z"
    }
   }
  },
  {
   "cell_type": "code",
   "execution_count": 137,
   "outputs": [],
   "source": [
    "df_predict_result = df_predict.as_pandas_dataframe()"
   ],
   "metadata": {
    "collapsed": false,
    "ExecuteTime": {
     "end_time": "2023-06-15T13:06:30.983196Z",
     "start_time": "2023-06-15T13:06:30.932439Z"
    }
   }
  },
  {
   "cell_type": "code",
   "execution_count": 151,
   "outputs": [
    {
     "data": {
      "text/plain": "       match_weight  match_probability  \\\n0          7.159884           0.993056   \n1          7.159884           0.993056   \n2          7.159884           0.993056   \n3          7.159884           0.993056   \n4          7.159884           0.993056   \n...             ...                ...   \n35904      7.159884           0.993056   \n35905      7.159884           0.993056   \n35906      7.159884           0.993056   \n35907      7.159884           0.993056   \n35908      7.159884           0.993056   \n\n                                             unique_id_l  \\\n0      http://data.europa.eu/a4g/resource/id_2023-S-0...   \n1      http://data.europa.eu/a4g/resource/id_2023-S-0...   \n2      http://data.europa.eu/a4g/resource/id_2023-S-0...   \n3      http://data.europa.eu/a4g/resource/id_2023-S-0...   \n4      http://data.europa.eu/a4g/resource/id_2023-S-0...   \n...                                                  ...   \n35904  http://data.europa.eu/a4g/resource/id_2023-S-0...   \n35905  http://data.europa.eu/a4g/resource/id_2023-S-0...   \n35906  http://data.europa.eu/a4g/resource/id_2023-S-0...   \n35907  http://data.europa.eu/a4g/resource/id_2023-S-0...   \n35908  http://data.europa.eu/a4g/resource/id_2023-S-0...   \n\n                                             unique_id_r  \\\n0      http://data.europa.eu/a4g/resource/id_2023-S-0...   \n1      http://data.europa.eu/a4g/resource/id_2023-S-0...   \n2      http://data.europa.eu/a4g/resource/id_2023-S-0...   \n3      http://data.europa.eu/a4g/resource/id_2023-S-0...   \n4      http://data.europa.eu/a4g/resource/id_2023-S-0...   \n...                                                  ...   \n35904  http://data.europa.eu/a4g/resource/id_2023-S-0...   \n35905  http://data.europa.eu/a4g/resource/id_2023-S-0...   \n35906  http://data.europa.eu/a4g/resource/id_2023-S-0...   \n35907  http://data.europa.eu/a4g/resource/id_2023-S-0...   \n35908  http://data.europa.eu/a4g/resource/id_2023-S-0...   \n\n                                      Thoroughfare_l  \\\n0      Kommunalförbundet Inköp Gävleborg Köpmannen 7   \n1      Kommunalförbundet Inköp Gävleborg Köpmannen 7   \n2      Kommunalförbundet Inköp Gävleborg Köpmannen 7   \n3                                 B-dul 1 Mai, Nr. 6   \n4                    Strada 1 Decembrie 1918, Nr. 92   \n...                                              ...   \n35904                            2 rue des oeuillets   \n35905         Strada Splaiul Independenţei, Nr. 202A   \n35906         Strada Splaiul Independenţei, Nr. 202A   \n35907                                   Järve tn 34a   \n35908                                Stadhuisplein 1   \n\n                                      Thoroughfare_r  gamma_Thoroughfare  \\\n0      Kommunalförbundet Inköp Gävleborg Köpmannen 7                   4   \n1      Kommunalförbundet Inköp Gävleborg Köpmannen 7                   4   \n2      Kommunalförbundet Inköp Gävleborg Köpmannen 7                   4   \n3                                 B-dul 1 Mai, Nr. 6                   4   \n4                    Strada 1 Decembrie 1918, Nr. 92                   4   \n...                                              ...                 ...   \n35904                            2 rue des oeuillets                   4   \n35905         Strada Splaiul Independenţei, Nr. 202A                   4   \n35906         Strada Splaiul Independenţei, Nr. 202A                   4   \n35907                                   Järve tn 34a                   4   \n35908                                Stadhuisplein 1                   4   \n\n                                             LegalName_l  \\\n0                                        Inköp Gävleborg   \n1                                        Inköp Gävleborg   \n2                                        Inköp Gävleborg   \n3      REGIA NATIONALA A PADURILOR - ROMSILVA RA - DI...   \n4                                          GETRANS BETON   \n...                                                  ...   \n35904                                             semaas   \n35905  Autoritatea Nationala de Management al Calitat...   \n35906  Autoritatea Nationala de Management al Calitat...   \n35907                 Riigi Kaitseinvesteeringute Keskus   \n35908                                Gemeente Amersfoort   \n\n                                             LegalName_r  gamma_LegalName  \\\n0                                        Inköp Gävleborg                4   \n1                                        Inköp Gävleborg                4   \n2                                        Inköp Gävleborg                4   \n3      REGIA NATIONALA A PADURILOR - ROMSILVA RA - DI...                4   \n4                                          GETRANS BETON                4   \n...                                                  ...              ...   \n35904                                             semaas                4   \n35905  Autoritatea Nationala de Management al Calitat...                4   \n35906  Autoritatea Nationala de Management al Calitat...                4   \n35907                 Riigi Kaitseinvesteeringute Keskus                4   \n35908                                Gemeente Amersfoort                4   \n\n      NUTSId_l NUTSId_r  \n0           SE       SE  \n1           SE       SE  \n2           SE       SE  \n3        RO215    RO215  \n4        RO423    RO423  \n...        ...      ...  \n35904    FRI32    FRI32  \n35905    RO321    RO321  \n35906    RO321    RO321  \n35907       EE       EE  \n35908       NL       NL  \n\n[35909 rows x 12 columns]",
      "text/html": "<div>\n<style scoped>\n    .dataframe tbody tr th:only-of-type {\n        vertical-align: middle;\n    }\n\n    .dataframe tbody tr th {\n        vertical-align: top;\n    }\n\n    .dataframe thead th {\n        text-align: right;\n    }\n</style>\n<table border=\"1\" class=\"dataframe\">\n  <thead>\n    <tr style=\"text-align: right;\">\n      <th></th>\n      <th>match_weight</th>\n      <th>match_probability</th>\n      <th>unique_id_l</th>\n      <th>unique_id_r</th>\n      <th>Thoroughfare_l</th>\n      <th>Thoroughfare_r</th>\n      <th>gamma_Thoroughfare</th>\n      <th>LegalName_l</th>\n      <th>LegalName_r</th>\n      <th>gamma_LegalName</th>\n      <th>NUTSId_l</th>\n      <th>NUTSId_r</th>\n    </tr>\n  </thead>\n  <tbody>\n    <tr>\n      <th>0</th>\n      <td>7.159884</td>\n      <td>0.993056</td>\n      <td>http://data.europa.eu/a4g/resource/id_2023-S-0...</td>\n      <td>http://data.europa.eu/a4g/resource/id_2023-S-0...</td>\n      <td>Kommunalförbundet Inköp Gävleborg Köpmannen 7</td>\n      <td>Kommunalförbundet Inköp Gävleborg Köpmannen 7</td>\n      <td>4</td>\n      <td>Inköp Gävleborg</td>\n      <td>Inköp Gävleborg</td>\n      <td>4</td>\n      <td>SE</td>\n      <td>SE</td>\n    </tr>\n    <tr>\n      <th>1</th>\n      <td>7.159884</td>\n      <td>0.993056</td>\n      <td>http://data.europa.eu/a4g/resource/id_2023-S-0...</td>\n      <td>http://data.europa.eu/a4g/resource/id_2023-S-0...</td>\n      <td>Kommunalförbundet Inköp Gävleborg Köpmannen 7</td>\n      <td>Kommunalförbundet Inköp Gävleborg Köpmannen 7</td>\n      <td>4</td>\n      <td>Inköp Gävleborg</td>\n      <td>Inköp Gävleborg</td>\n      <td>4</td>\n      <td>SE</td>\n      <td>SE</td>\n    </tr>\n    <tr>\n      <th>2</th>\n      <td>7.159884</td>\n      <td>0.993056</td>\n      <td>http://data.europa.eu/a4g/resource/id_2023-S-0...</td>\n      <td>http://data.europa.eu/a4g/resource/id_2023-S-0...</td>\n      <td>Kommunalförbundet Inköp Gävleborg Köpmannen 7</td>\n      <td>Kommunalförbundet Inköp Gävleborg Köpmannen 7</td>\n      <td>4</td>\n      <td>Inköp Gävleborg</td>\n      <td>Inköp Gävleborg</td>\n      <td>4</td>\n      <td>SE</td>\n      <td>SE</td>\n    </tr>\n    <tr>\n      <th>3</th>\n      <td>7.159884</td>\n      <td>0.993056</td>\n      <td>http://data.europa.eu/a4g/resource/id_2023-S-0...</td>\n      <td>http://data.europa.eu/a4g/resource/id_2023-S-0...</td>\n      <td>B-dul 1 Mai, Nr. 6</td>\n      <td>B-dul 1 Mai, Nr. 6</td>\n      <td>4</td>\n      <td>REGIA NATIONALA A PADURILOR - ROMSILVA RA - DI...</td>\n      <td>REGIA NATIONALA A PADURILOR - ROMSILVA RA - DI...</td>\n      <td>4</td>\n      <td>RO215</td>\n      <td>RO215</td>\n    </tr>\n    <tr>\n      <th>4</th>\n      <td>7.159884</td>\n      <td>0.993056</td>\n      <td>http://data.europa.eu/a4g/resource/id_2023-S-0...</td>\n      <td>http://data.europa.eu/a4g/resource/id_2023-S-0...</td>\n      <td>Strada 1 Decembrie 1918, Nr. 92</td>\n      <td>Strada 1 Decembrie 1918, Nr. 92</td>\n      <td>4</td>\n      <td>GETRANS BETON</td>\n      <td>GETRANS BETON</td>\n      <td>4</td>\n      <td>RO423</td>\n      <td>RO423</td>\n    </tr>\n    <tr>\n      <th>...</th>\n      <td>...</td>\n      <td>...</td>\n      <td>...</td>\n      <td>...</td>\n      <td>...</td>\n      <td>...</td>\n      <td>...</td>\n      <td>...</td>\n      <td>...</td>\n      <td>...</td>\n      <td>...</td>\n      <td>...</td>\n    </tr>\n    <tr>\n      <th>35904</th>\n      <td>7.159884</td>\n      <td>0.993056</td>\n      <td>http://data.europa.eu/a4g/resource/id_2023-S-0...</td>\n      <td>http://data.europa.eu/a4g/resource/id_2023-S-0...</td>\n      <td>2 rue des oeuillets</td>\n      <td>2 rue des oeuillets</td>\n      <td>4</td>\n      <td>semaas</td>\n      <td>semaas</td>\n      <td>4</td>\n      <td>FRI32</td>\n      <td>FRI32</td>\n    </tr>\n    <tr>\n      <th>35905</th>\n      <td>7.159884</td>\n      <td>0.993056</td>\n      <td>http://data.europa.eu/a4g/resource/id_2023-S-0...</td>\n      <td>http://data.europa.eu/a4g/resource/id_2023-S-0...</td>\n      <td>Strada Splaiul Independenţei, Nr. 202A</td>\n      <td>Strada Splaiul Independenţei, Nr. 202A</td>\n      <td>4</td>\n      <td>Autoritatea Nationala de Management al Calitat...</td>\n      <td>Autoritatea Nationala de Management al Calitat...</td>\n      <td>4</td>\n      <td>RO321</td>\n      <td>RO321</td>\n    </tr>\n    <tr>\n      <th>35906</th>\n      <td>7.159884</td>\n      <td>0.993056</td>\n      <td>http://data.europa.eu/a4g/resource/id_2023-S-0...</td>\n      <td>http://data.europa.eu/a4g/resource/id_2023-S-0...</td>\n      <td>Strada Splaiul Independenţei, Nr. 202A</td>\n      <td>Strada Splaiul Independenţei, Nr. 202A</td>\n      <td>4</td>\n      <td>Autoritatea Nationala de Management al Calitat...</td>\n      <td>Autoritatea Nationala de Management al Calitat...</td>\n      <td>4</td>\n      <td>RO321</td>\n      <td>RO321</td>\n    </tr>\n    <tr>\n      <th>35907</th>\n      <td>7.159884</td>\n      <td>0.993056</td>\n      <td>http://data.europa.eu/a4g/resource/id_2023-S-0...</td>\n      <td>http://data.europa.eu/a4g/resource/id_2023-S-0...</td>\n      <td>Järve tn 34a</td>\n      <td>Järve tn 34a</td>\n      <td>4</td>\n      <td>Riigi Kaitseinvesteeringute Keskus</td>\n      <td>Riigi Kaitseinvesteeringute Keskus</td>\n      <td>4</td>\n      <td>EE</td>\n      <td>EE</td>\n    </tr>\n    <tr>\n      <th>35908</th>\n      <td>7.159884</td>\n      <td>0.993056</td>\n      <td>http://data.europa.eu/a4g/resource/id_2023-S-0...</td>\n      <td>http://data.europa.eu/a4g/resource/id_2023-S-0...</td>\n      <td>Stadhuisplein 1</td>\n      <td>Stadhuisplein 1</td>\n      <td>4</td>\n      <td>Gemeente Amersfoort</td>\n      <td>Gemeente Amersfoort</td>\n      <td>4</td>\n      <td>NL</td>\n      <td>NL</td>\n    </tr>\n  </tbody>\n</table>\n<p>35909 rows × 12 columns</p>\n</div>"
     },
     "execution_count": 151,
     "metadata": {},
     "output_type": "execute_result"
    }
   ],
   "source": [
    "df_predict_result"
   ],
   "metadata": {
    "collapsed": false,
    "ExecuteTime": {
     "end_time": "2023-06-15T13:10:08.082602Z",
     "start_time": "2023-06-15T13:10:08.079949Z"
    }
   }
  },
  {
   "cell_type": "code",
   "execution_count": 131,
   "outputs": [],
   "source": [
    "new_settings = settings.copy()\n",
    "new_settings[\"link_type\"] = \"link_only\""
   ],
   "metadata": {
    "collapsed": false,
    "ExecuteTime": {
     "end_time": "2023-06-15T13:04:59.332861Z",
     "start_time": "2023-06-15T13:04:59.330831Z"
    }
   }
  },
  {
   "cell_type": "code",
   "execution_count": 133,
   "outputs": [],
   "source": [
    "new_settings[\"link_type\"] = \"link_only\""
   ],
   "metadata": {
    "collapsed": false,
    "ExecuteTime": {
     "end_time": "2023-06-15T13:05:24.096017Z",
     "start_time": "2023-06-15T13:05:24.093969Z"
    }
   }
  },
  {
   "cell_type": "code",
   "execution_count": 157,
   "outputs": [
    {
     "data": {
      "text/plain": "                                              cluster_id  \\\n0      http://data.europa.eu/a4g/resource/id_2023-S-0...   \n1      http://data.europa.eu/a4g/resource/id_2023-S-0...   \n2      http://data.europa.eu/a4g/resource/id_2023-S-0...   \n3      http://data.europa.eu/a4g/resource/id_2023-S-0...   \n4      http://data.europa.eu/a4g/resource/id_2023-S-0...   \n...                                                  ...   \n23082  http://data.europa.eu/a4g/resource/id_2023-S-0...   \n23083  http://data.europa.eu/a4g/resource/id_2023-S-0...   \n23084  http://data.europa.eu/a4g/resource/id_2023-S-0...   \n23085  http://data.europa.eu/a4g/resource/id_2023-S-0...   \n23086  http://data.europa.eu/a4g/resource/id_2023-S-0...   \n\n                                          OrganizationId  \\\n0      http://data.europa.eu/a4g/resource/id_2023-S-0...   \n1      http://data.europa.eu/a4g/resource/id_2023-S-0...   \n2      http://data.europa.eu/a4g/resource/id_2023-S-0...   \n3      http://data.europa.eu/a4g/resource/id_2023-S-0...   \n4      http://data.europa.eu/a4g/resource/id_2023-S-0...   \n...                                                  ...   \n23082  http://data.europa.eu/a4g/resource/id_2023-S-0...   \n23083  http://data.europa.eu/a4g/resource/id_2023-S-0...   \n23084  http://data.europa.eu/a4g/resource/id_2023-S-0...   \n23085  http://data.europa.eu/a4g/resource/id_2023-S-0...   \n23086  http://data.europa.eu/a4g/resource/id_2023-S-0...   \n\n                                               LegalName  \\\n0                                     ΖΑΡΑΪΔΩΝΗΣ ΧΡΗΣΤΟΣ   \n1                                        ΑΛΕΞΙΟΥ ΙΩΑΝΝΗΣ   \n2      ΕΝΩΣΗ ΜΑΚΕΔΟΝΙΑΣ ΑΝΩΝΥΜΗ ΜΕΤΑΦΟΡΙΚΗ ΕΤΑΙΡΕΙΑ Α...   \n3      ΗΛΕΚΤΡΟΝΙΚΟΣ ΕΘΝΙΚΟΣ ΦΟΡΕΑΣ ΚΟΙΝΩΝΙΚΗΣ ΑΣΦΑΛΙΣ...   \n4                                        МУСАЛА- 88 ЕООД   \n...                                                  ...   \n23082                   Djurambulansen Jonas Tysklind AB   \n23083                       SVENSKA HUNDSKYDDSFÖRENINGEN   \n23084                       LÄNSSTYRELSEN I HALLANDS LÄN   \n23085                                         AWP s.r.o.   \n23086  Krajská správa a údržba silnic Vysočiny, přísp...   \n\n                                               AddressId BusinessSize  \\\n0      http://data.europa.eu/a4g/resource/id_2023-S-0...         None   \n1      http://data.europa.eu/a4g/resource/id_2023-S-0...         None   \n2      http://data.europa.eu/a4g/resource/id_2023-S-0...         None   \n3      http://data.europa.eu/a4g/resource/id_2023-S-0...         None   \n4      http://data.europa.eu/a4g/resource/id_2023-S-0...         None   \n...                                                  ...          ...   \n23082  http://data.europa.eu/a4g/resource/id_2023-S-0...          sme   \n23083  http://data.europa.eu/a4g/resource/id_2023-S-0...          sme   \n23084  http://data.europa.eu/a4g/resource/id_2023-S-0...         None   \n23085  http://data.europa.eu/a4g/resource/id_2023-S-0...          sme   \n23086  http://data.europa.eu/a4g/resource/id_2023-S-0...         None   \n\n      CountryCode PostCode          PostName          Thoroughfare  \\\n0             GRC    19300       ΑΣΠΡΟΠΥΡΓΟΣ          ΘΕΣΗ ΚΟΥΤΑΛΑ   \n1             GRC    10683             ΑΘΗΝΑ    ΣΠΥΡΟΥ ΤΡΙΚΟΥΠΗ 44   \n2             GRC    17778            ΤΑΥΡΟΣ                ΗΡΑΣ 4   \n3             GRC   106 71             ΑΘΗΝΑ          ΑΚΑΔΗΜΙΑΣ 22   \n4             BGR     2781   с. Горно Краище         без улица №.0   \n...           ...      ...               ...                   ...   \n23082         SWE    26994            BÅSTAD      Häljarpsvägen 83   \n23083         SWE    16838            BROMMA  Åkeshovs Gårdsväg 10   \n23084         SWE    30186          HALMSTAD         Slottsgatan 2   \n23085         CZE   252 42  Jesenice u Prahy           Okružní 635   \n23086         CZE   586 01           Jihlava      Kosovská 1122/16   \n\n      FullAddress  ... NUTS1                            NUTS1Label  \\\n0            None  ...   EL3                                Αττική   \n1            None  ...   EL3                                Αττική   \n2            None  ...   EL3                                Αττική   \n3            None  ...   EL3                                Αττική   \n4            None  ...   BG4  Югозападна и Южна централна България   \n...           ...  ...   ...                                   ...   \n23082        None  ...   SE2                         Södra Sverige   \n23083        None  ...   SE2                         Södra Sverige   \n23084        None  ...   SE2                         Södra Sverige   \n23085        None  ...  None                                  None   \n23086        None  ...   CZ0                                 Česko   \n\n                                  NUTS1LabelEng NUTS2   NUTS2Label  \\\n0                                        Attiki  EL30       Aττική   \n1                                        Attiki  EL30       Aττική   \n2                                        Attiki  EL30       Aττική   \n3                                        Attiki  EL30       Aττική   \n4      Yugozapadna i Yuzhna tsentralna Bulgaria  BG41   Югозападен   \n...                                         ...   ...          ...   \n23082                             Södra Sverige  SE23  Västsverige   \n23083                             Södra Sverige  SE23  Västsverige   \n23084                             Södra Sverige  SE23  Västsverige   \n23085                                      None  None         None   \n23086                                     Česko  CZ06   Jihovýchod   \n\n      NUTS2LabelEng  NUTS3               NUTS3Label             NUTS3LabelEng  \\\n0            Attiki  EL306            Δυτική Αττική             Dytiki Attiki   \n1            Attiki  EL303  Κεντρικός Τομέας Αθηνών  Kentrikos Tomeas Athinon   \n2            Attiki  EL303  Κεντρικός Τομέας Αθηνών  Kentrikos Tomeas Athinon   \n3            Attiki  EL303  Κεντρικός Τομέας Αθηνών  Kentrikos Tomeas Athinon   \n4       Yugozapaden   None                     None                      None   \n...             ...    ...                      ...                       ...   \n23082   Västsverige   None                     None                      None   \n23083   Västsverige   None                     None                      None   \n23084   Västsverige  SE231             Hallands län              Hallands län   \n23085          None   None                     None                      None   \n23086    Jihovýchod  CZ063            Kraj Vysočina             Kraj Vysočina   \n\n                                               unique_id  \n0      http://data.europa.eu/a4g/resource/id_2023-S-0...  \n1      http://data.europa.eu/a4g/resource/id_2023-S-0...  \n2      http://data.europa.eu/a4g/resource/id_2023-S-0...  \n3      http://data.europa.eu/a4g/resource/id_2023-S-0...  \n4      http://data.europa.eu/a4g/resource/id_2023-S-0...  \n...                                                  ...  \n23082  http://data.europa.eu/a4g/resource/id_2023-S-0...  \n23083  http://data.europa.eu/a4g/resource/id_2023-S-0...  \n23084  http://data.europa.eu/a4g/resource/id_2023-S-0...  \n23085  http://data.europa.eu/a4g/resource/id_2023-S-0...  \n23086  http://data.europa.eu/a4g/resource/id_2023-S-0...  \n\n[23087 rows x 26 columns]",
      "text/html": "<div>\n<style scoped>\n    .dataframe tbody tr th:only-of-type {\n        vertical-align: middle;\n    }\n\n    .dataframe tbody tr th {\n        vertical-align: top;\n    }\n\n    .dataframe thead th {\n        text-align: right;\n    }\n</style>\n<table border=\"1\" class=\"dataframe\">\n  <thead>\n    <tr style=\"text-align: right;\">\n      <th></th>\n      <th>cluster_id</th>\n      <th>OrganizationId</th>\n      <th>LegalName</th>\n      <th>AddressId</th>\n      <th>BusinessSize</th>\n      <th>CountryCode</th>\n      <th>PostCode</th>\n      <th>PostName</th>\n      <th>Thoroughfare</th>\n      <th>FullAddress</th>\n      <th>...</th>\n      <th>NUTS1</th>\n      <th>NUTS1Label</th>\n      <th>NUTS1LabelEng</th>\n      <th>NUTS2</th>\n      <th>NUTS2Label</th>\n      <th>NUTS2LabelEng</th>\n      <th>NUTS3</th>\n      <th>NUTS3Label</th>\n      <th>NUTS3LabelEng</th>\n      <th>unique_id</th>\n    </tr>\n  </thead>\n  <tbody>\n    <tr>\n      <th>0</th>\n      <td>http://data.europa.eu/a4g/resource/id_2023-S-0...</td>\n      <td>http://data.europa.eu/a4g/resource/id_2023-S-0...</td>\n      <td>ΖΑΡΑΪΔΩΝΗΣ ΧΡΗΣΤΟΣ</td>\n      <td>http://data.europa.eu/a4g/resource/id_2023-S-0...</td>\n      <td>None</td>\n      <td>GRC</td>\n      <td>19300</td>\n      <td>ΑΣΠΡΟΠΥΡΓΟΣ</td>\n      <td>ΘΕΣΗ ΚΟΥΤΑΛΑ</td>\n      <td>None</td>\n      <td>...</td>\n      <td>EL3</td>\n      <td>Αττική</td>\n      <td>Attiki</td>\n      <td>EL30</td>\n      <td>Aττική</td>\n      <td>Attiki</td>\n      <td>EL306</td>\n      <td>Δυτική Αττική</td>\n      <td>Dytiki Attiki</td>\n      <td>http://data.europa.eu/a4g/resource/id_2023-S-0...</td>\n    </tr>\n    <tr>\n      <th>1</th>\n      <td>http://data.europa.eu/a4g/resource/id_2023-S-0...</td>\n      <td>http://data.europa.eu/a4g/resource/id_2023-S-0...</td>\n      <td>ΑΛΕΞΙΟΥ ΙΩΑΝΝΗΣ</td>\n      <td>http://data.europa.eu/a4g/resource/id_2023-S-0...</td>\n      <td>None</td>\n      <td>GRC</td>\n      <td>10683</td>\n      <td>ΑΘΗΝΑ</td>\n      <td>ΣΠΥΡΟΥ ΤΡΙΚΟΥΠΗ 44</td>\n      <td>None</td>\n      <td>...</td>\n      <td>EL3</td>\n      <td>Αττική</td>\n      <td>Attiki</td>\n      <td>EL30</td>\n      <td>Aττική</td>\n      <td>Attiki</td>\n      <td>EL303</td>\n      <td>Κεντρικός Τομέας Αθηνών</td>\n      <td>Kentrikos Tomeas Athinon</td>\n      <td>http://data.europa.eu/a4g/resource/id_2023-S-0...</td>\n    </tr>\n    <tr>\n      <th>2</th>\n      <td>http://data.europa.eu/a4g/resource/id_2023-S-0...</td>\n      <td>http://data.europa.eu/a4g/resource/id_2023-S-0...</td>\n      <td>ΕΝΩΣΗ ΜΑΚΕΔΟΝΙΑΣ ΑΝΩΝΥΜΗ ΜΕΤΑΦΟΡΙΚΗ ΕΤΑΙΡΕΙΑ Α...</td>\n      <td>http://data.europa.eu/a4g/resource/id_2023-S-0...</td>\n      <td>None</td>\n      <td>GRC</td>\n      <td>17778</td>\n      <td>ΤΑΥΡΟΣ</td>\n      <td>ΗΡΑΣ 4</td>\n      <td>None</td>\n      <td>...</td>\n      <td>EL3</td>\n      <td>Αττική</td>\n      <td>Attiki</td>\n      <td>EL30</td>\n      <td>Aττική</td>\n      <td>Attiki</td>\n      <td>EL303</td>\n      <td>Κεντρικός Τομέας Αθηνών</td>\n      <td>Kentrikos Tomeas Athinon</td>\n      <td>http://data.europa.eu/a4g/resource/id_2023-S-0...</td>\n    </tr>\n    <tr>\n      <th>3</th>\n      <td>http://data.europa.eu/a4g/resource/id_2023-S-0...</td>\n      <td>http://data.europa.eu/a4g/resource/id_2023-S-0...</td>\n      <td>ΗΛΕΚΤΡΟΝΙΚΟΣ ΕΘΝΙΚΟΣ ΦΟΡΕΑΣ ΚΟΙΝΩΝΙΚΗΣ ΑΣΦΑΛΙΣ...</td>\n      <td>http://data.europa.eu/a4g/resource/id_2023-S-0...</td>\n      <td>None</td>\n      <td>GRC</td>\n      <td>106 71</td>\n      <td>ΑΘΗΝΑ</td>\n      <td>ΑΚΑΔΗΜΙΑΣ 22</td>\n      <td>None</td>\n      <td>...</td>\n      <td>EL3</td>\n      <td>Αττική</td>\n      <td>Attiki</td>\n      <td>EL30</td>\n      <td>Aττική</td>\n      <td>Attiki</td>\n      <td>EL303</td>\n      <td>Κεντρικός Τομέας Αθηνών</td>\n      <td>Kentrikos Tomeas Athinon</td>\n      <td>http://data.europa.eu/a4g/resource/id_2023-S-0...</td>\n    </tr>\n    <tr>\n      <th>4</th>\n      <td>http://data.europa.eu/a4g/resource/id_2023-S-0...</td>\n      <td>http://data.europa.eu/a4g/resource/id_2023-S-0...</td>\n      <td>МУСАЛА- 88 ЕООД</td>\n      <td>http://data.europa.eu/a4g/resource/id_2023-S-0...</td>\n      <td>None</td>\n      <td>BGR</td>\n      <td>2781</td>\n      <td>с. Горно Краище</td>\n      <td>без улица №.0</td>\n      <td>None</td>\n      <td>...</td>\n      <td>BG4</td>\n      <td>Югозападна и Южна централна България</td>\n      <td>Yugozapadna i Yuzhna tsentralna Bulgaria</td>\n      <td>BG41</td>\n      <td>Югозападен</td>\n      <td>Yugozapaden</td>\n      <td>None</td>\n      <td>None</td>\n      <td>None</td>\n      <td>http://data.europa.eu/a4g/resource/id_2023-S-0...</td>\n    </tr>\n    <tr>\n      <th>...</th>\n      <td>...</td>\n      <td>...</td>\n      <td>...</td>\n      <td>...</td>\n      <td>...</td>\n      <td>...</td>\n      <td>...</td>\n      <td>...</td>\n      <td>...</td>\n      <td>...</td>\n      <td>...</td>\n      <td>...</td>\n      <td>...</td>\n      <td>...</td>\n      <td>...</td>\n      <td>...</td>\n      <td>...</td>\n      <td>...</td>\n      <td>...</td>\n      <td>...</td>\n      <td>...</td>\n    </tr>\n    <tr>\n      <th>23082</th>\n      <td>http://data.europa.eu/a4g/resource/id_2023-S-0...</td>\n      <td>http://data.europa.eu/a4g/resource/id_2023-S-0...</td>\n      <td>Djurambulansen Jonas Tysklind AB</td>\n      <td>http://data.europa.eu/a4g/resource/id_2023-S-0...</td>\n      <td>sme</td>\n      <td>SWE</td>\n      <td>26994</td>\n      <td>BÅSTAD</td>\n      <td>Häljarpsvägen 83</td>\n      <td>None</td>\n      <td>...</td>\n      <td>SE2</td>\n      <td>Södra Sverige</td>\n      <td>Södra Sverige</td>\n      <td>SE23</td>\n      <td>Västsverige</td>\n      <td>Västsverige</td>\n      <td>None</td>\n      <td>None</td>\n      <td>None</td>\n      <td>http://data.europa.eu/a4g/resource/id_2023-S-0...</td>\n    </tr>\n    <tr>\n      <th>23083</th>\n      <td>http://data.europa.eu/a4g/resource/id_2023-S-0...</td>\n      <td>http://data.europa.eu/a4g/resource/id_2023-S-0...</td>\n      <td>SVENSKA HUNDSKYDDSFÖRENINGEN</td>\n      <td>http://data.europa.eu/a4g/resource/id_2023-S-0...</td>\n      <td>sme</td>\n      <td>SWE</td>\n      <td>16838</td>\n      <td>BROMMA</td>\n      <td>Åkeshovs Gårdsväg 10</td>\n      <td>None</td>\n      <td>...</td>\n      <td>SE2</td>\n      <td>Södra Sverige</td>\n      <td>Södra Sverige</td>\n      <td>SE23</td>\n      <td>Västsverige</td>\n      <td>Västsverige</td>\n      <td>None</td>\n      <td>None</td>\n      <td>None</td>\n      <td>http://data.europa.eu/a4g/resource/id_2023-S-0...</td>\n    </tr>\n    <tr>\n      <th>23084</th>\n      <td>http://data.europa.eu/a4g/resource/id_2023-S-0...</td>\n      <td>http://data.europa.eu/a4g/resource/id_2023-S-0...</td>\n      <td>LÄNSSTYRELSEN I HALLANDS LÄN</td>\n      <td>http://data.europa.eu/a4g/resource/id_2023-S-0...</td>\n      <td>None</td>\n      <td>SWE</td>\n      <td>30186</td>\n      <td>HALMSTAD</td>\n      <td>Slottsgatan 2</td>\n      <td>None</td>\n      <td>...</td>\n      <td>SE2</td>\n      <td>Södra Sverige</td>\n      <td>Södra Sverige</td>\n      <td>SE23</td>\n      <td>Västsverige</td>\n      <td>Västsverige</td>\n      <td>SE231</td>\n      <td>Hallands län</td>\n      <td>Hallands län</td>\n      <td>http://data.europa.eu/a4g/resource/id_2023-S-0...</td>\n    </tr>\n    <tr>\n      <th>23085</th>\n      <td>http://data.europa.eu/a4g/resource/id_2023-S-0...</td>\n      <td>http://data.europa.eu/a4g/resource/id_2023-S-0...</td>\n      <td>AWP s.r.o.</td>\n      <td>http://data.europa.eu/a4g/resource/id_2023-S-0...</td>\n      <td>sme</td>\n      <td>CZE</td>\n      <td>252 42</td>\n      <td>Jesenice u Prahy</td>\n      <td>Okružní 635</td>\n      <td>None</td>\n      <td>...</td>\n      <td>None</td>\n      <td>None</td>\n      <td>None</td>\n      <td>None</td>\n      <td>None</td>\n      <td>None</td>\n      <td>None</td>\n      <td>None</td>\n      <td>None</td>\n      <td>http://data.europa.eu/a4g/resource/id_2023-S-0...</td>\n    </tr>\n    <tr>\n      <th>23086</th>\n      <td>http://data.europa.eu/a4g/resource/id_2023-S-0...</td>\n      <td>http://data.europa.eu/a4g/resource/id_2023-S-0...</td>\n      <td>Krajská správa a údržba silnic Vysočiny, přísp...</td>\n      <td>http://data.europa.eu/a4g/resource/id_2023-S-0...</td>\n      <td>None</td>\n      <td>CZE</td>\n      <td>586 01</td>\n      <td>Jihlava</td>\n      <td>Kosovská 1122/16</td>\n      <td>None</td>\n      <td>...</td>\n      <td>CZ0</td>\n      <td>Česko</td>\n      <td>Česko</td>\n      <td>CZ06</td>\n      <td>Jihovýchod</td>\n      <td>Jihovýchod</td>\n      <td>CZ063</td>\n      <td>Kraj Vysočina</td>\n      <td>Kraj Vysočina</td>\n      <td>http://data.europa.eu/a4g/resource/id_2023-S-0...</td>\n    </tr>\n  </tbody>\n</table>\n<p>23087 rows × 26 columns</p>\n</div>"
     },
     "execution_count": 157,
     "metadata": {},
     "output_type": "execute_result"
    }
   ],
   "source": [
    "result_merged_clusters_df"
   ],
   "metadata": {
    "collapsed": false,
    "ExecuteTime": {
     "end_time": "2023-06-16T16:45:56.576358Z",
     "start_time": "2023-06-16T16:45:56.508466Z"
    }
   }
  },
  {
   "cell_type": "code",
   "execution_count": 183,
   "outputs": [],
   "source": [
    "from cleantext.sklearn import CleanTransformer\n",
    "\n",
    "cleaner = CleanTransformer(\n",
    "                        # fix_unicode=True,\n",
    "                           # to_ascii=True,\n",
    "                           # lower=True,\n",
    "                           no_line_breaks=True,\n",
    "                           normalize_whitespace=True\n",
    "                           )"
   ],
   "metadata": {
    "collapsed": false,
    "ExecuteTime": {
     "end_time": "2023-06-16T17:03:33.527294Z",
     "start_time": "2023-06-16T17:03:33.482360Z"
    }
   }
  },
  {
   "cell_type": "code",
   "execution_count": 207,
   "outputs": [],
   "source": [
    "def preprocess_textual_columns(data: pd.DataFrame) -> pd.DataFrame:\n",
    "    \"\"\"\n",
    "    Preprocess textual columns in a dataframe.\n",
    "    :param data:\n",
    "    :return:\n",
    "    \"\"\"\n",
    "    cleaned_data = data.copy()\n",
    "    for col in cleaned_data.columns:\n",
    "        if cleaned_data[col].dtype == 'object':\n",
    "            cleaned_data[col] = cleaned_data[col].str.casefold().str.replace(r\"[^\\w\\s]\",'', regex=True)\n",
    "            cleaned_data[col] = cleaned_data[col].str.replace(r'\\s+', ' ', regex=True)\n",
    "    return cleaned_data\n"
   ],
   "metadata": {
    "collapsed": false,
    "ExecuteTime": {
     "end_time": "2023-06-16T17:55:29.137505Z",
     "start_time": "2023-06-16T17:55:29.134507Z"
    }
   }
  },
  {
   "cell_type": "code",
   "execution_count": 208,
   "outputs": [],
   "source": [
    "preprocessed_df = preprocess_textual_columns(result_merged_clusters_df)"
   ],
   "metadata": {
    "collapsed": false,
    "ExecuteTime": {
     "end_time": "2023-06-16T17:55:38.548741Z",
     "start_time": "2023-06-16T17:55:37.953139Z"
    }
   }
  },
  {
   "cell_type": "code",
   "execution_count": 209,
   "outputs": [
    {
     "data": {
      "text/plain": "                                              cluster_id  \\\n0      httpdataeuropaeua4gresourceid_2023s085259678_c...   \n1      httpdataeuropaeua4gresourceid_2023s085259678_c...   \n2      httpdataeuropaeua4gresourceid_2023s085259678_c...   \n3      httpdataeuropaeua4gresourceid_2023s085259678_o...   \n4      httpdataeuropaeua4gresourceid_2023s085259681_c...   \n...                                                  ...   \n23082  httpdataeuropaeua4gresourceid_2023s094291826_c...   \n23083  httpdataeuropaeua4gresourceid_2023s094291826_c...   \n23084  httpdataeuropaeua4gresourceid_2023s094291826_o...   \n23085  httpdataeuropaeua4gresourceid_2023s094291834_c...   \n23086  httpdataeuropaeua4gresourceid_2023s094291834_o...   \n\n                                          OrganizationId  \\\n0      httpdataeuropaeua4gresourceid_2023s085259678_c...   \n1      httpdataeuropaeua4gresourceid_2023s085259678_c...   \n2      httpdataeuropaeua4gresourceid_2023s085259678_c...   \n3      httpdataeuropaeua4gresourceid_2023s089274506_o...   \n4      httpdataeuropaeua4gresourceid_2023s094289272_c...   \n...                                                  ...   \n23082  httpdataeuropaeua4gresourceid_2023s094291826_c...   \n23083  httpdataeuropaeua4gresourceid_2023s094291826_c...   \n23084  httpdataeuropaeua4gresourceid_2023s094291826_o...   \n23085  httpdataeuropaeua4gresourceid_2023s094291834_c...   \n23086  httpdataeuropaeua4gresourceid_2023s094291834_o...   \n\n                                               LegalName  \\\n0                                     ζαραϊδωνησ χρηστοσ   \n1                                        αλεξιου ιωαννησ   \n2       ενωση μακεδονιασ ανωνυμη μεταφορικη εταιρεια αμε   \n3      ηλεκτρονικοσ εθνικοσ φορεασ κοινωνικησ ασφαλισ...   \n4                                         мусала 88 еоод   \n...                                                  ...   \n23082                   djurambulansen jonas tysklind ab   \n23083                       svenska hundskyddsföreningen   \n23084                       länsstyrelsen i hallands län   \n23085                                            awp sro   \n23086  krajská správa a údržba silnic vysočiny příspě...   \n\n                                               AddressId BusinessSize  \\\n0      httpdataeuropaeua4gresourceid_2023s085259678_c...         None   \n1      httpdataeuropaeua4gresourceid_2023s085259678_c...         None   \n2      httpdataeuropaeua4gresourceid_2023s085259678_c...         None   \n3      httpdataeuropaeua4gresourceid_2023s089274506_o...         None   \n4      httpdataeuropaeua4gresourceid_2023s094289272_c...         None   \n...                                                  ...          ...   \n23082  httpdataeuropaeua4gresourceid_2023s094291826_c...          sme   \n23083  httpdataeuropaeua4gresourceid_2023s094291826_c...          sme   \n23084  httpdataeuropaeua4gresourceid_2023s094291826_o...         None   \n23085  httpdataeuropaeua4gresourceid_2023s094291834_c...          sme   \n23086  httpdataeuropaeua4gresourceid_2023s094291834_o...         None   \n\n      CountryCode PostCode          PostName          Thoroughfare  \\\n0             grc    19300       ασπροπυργοσ          θεση κουταλα   \n1             grc    10683             αθηνα    σπυρου τρικουπη 44   \n2             grc    17778            ταυροσ                ηρασ 4   \n3             grc   106 71             αθηνα          ακαδημιασ 22   \n4             bgr     2781    с горно краище           без улица 0   \n...           ...      ...               ...                   ...   \n23082         swe    26994            båstad      häljarpsvägen 83   \n23083         swe    16838            bromma  åkeshovs gårdsväg 10   \n23084         swe    30186          halmstad         slottsgatan 2   \n23085         cze   252 42  jesenice u prahy           okružní 635   \n23086         cze   586 01           jihlava       kosovská 112216   \n\n      FullAddress  ... NUTS1                            NUTS1Label  \\\n0            None  ...   el3                                αττική   \n1            None  ...   el3                                αττική   \n2            None  ...   el3                                αττική   \n3            None  ...   el3                                αττική   \n4            None  ...   bg4  югозападна и южна централна българия   \n...           ...  ...   ...                                   ...   \n23082        None  ...   se2                         södra sverige   \n23083        None  ...   se2                         södra sverige   \n23084        None  ...   se2                         södra sverige   \n23085        None  ...  None                                  None   \n23086        None  ...   cz0                                 česko   \n\n                                  NUTS1LabelEng NUTS2   NUTS2Label  \\\n0                                        attiki  el30       aττική   \n1                                        attiki  el30       aττική   \n2                                        attiki  el30       aττική   \n3                                        attiki  el30       aττική   \n4      yugozapadna i yuzhna tsentralna bulgaria  bg41   югозападен   \n...                                         ...   ...          ...   \n23082                             södra sverige  se23  västsverige   \n23083                             södra sverige  se23  västsverige   \n23084                             södra sverige  se23  västsverige   \n23085                                      None  None         None   \n23086                                     česko  cz06   jihovýchod   \n\n      NUTS2LabelEng  NUTS3               NUTS3Label             NUTS3LabelEng  \\\n0            attiki  el306            δυτική αττική             dytiki attiki   \n1            attiki  el303  κεντρικόσ τομέασ αθηνών  kentrikos tomeas athinon   \n2            attiki  el303  κεντρικόσ τομέασ αθηνών  kentrikos tomeas athinon   \n3            attiki  el303  κεντρικόσ τομέασ αθηνών  kentrikos tomeas athinon   \n4       yugozapaden   None                     None                      None   \n...             ...    ...                      ...                       ...   \n23082   västsverige   None                     None                      None   \n23083   västsverige   None                     None                      None   \n23084   västsverige  se231             hallands län              hallands län   \n23085          None   None                     None                      None   \n23086    jihovýchod  cz063            kraj vysočina             kraj vysočina   \n\n                                               unique_id  \n0      httpdataeuropaeua4gresourceid_2023s085259678_c...  \n1      httpdataeuropaeua4gresourceid_2023s085259678_c...  \n2      httpdataeuropaeua4gresourceid_2023s085259678_c...  \n3      httpdataeuropaeua4gresourceid_2023s085259678_o...  \n4      httpdataeuropaeua4gresourceid_2023s085259681_c...  \n...                                                  ...  \n23082  httpdataeuropaeua4gresourceid_2023s094291826_c...  \n23083  httpdataeuropaeua4gresourceid_2023s094291826_c...  \n23084  httpdataeuropaeua4gresourceid_2023s094291826_o...  \n23085  httpdataeuropaeua4gresourceid_2023s094291834_c...  \n23086  httpdataeuropaeua4gresourceid_2023s094291834_o...  \n\n[23087 rows x 26 columns]",
      "text/html": "<div>\n<style scoped>\n    .dataframe tbody tr th:only-of-type {\n        vertical-align: middle;\n    }\n\n    .dataframe tbody tr th {\n        vertical-align: top;\n    }\n\n    .dataframe thead th {\n        text-align: right;\n    }\n</style>\n<table border=\"1\" class=\"dataframe\">\n  <thead>\n    <tr style=\"text-align: right;\">\n      <th></th>\n      <th>cluster_id</th>\n      <th>OrganizationId</th>\n      <th>LegalName</th>\n      <th>AddressId</th>\n      <th>BusinessSize</th>\n      <th>CountryCode</th>\n      <th>PostCode</th>\n      <th>PostName</th>\n      <th>Thoroughfare</th>\n      <th>FullAddress</th>\n      <th>...</th>\n      <th>NUTS1</th>\n      <th>NUTS1Label</th>\n      <th>NUTS1LabelEng</th>\n      <th>NUTS2</th>\n      <th>NUTS2Label</th>\n      <th>NUTS2LabelEng</th>\n      <th>NUTS3</th>\n      <th>NUTS3Label</th>\n      <th>NUTS3LabelEng</th>\n      <th>unique_id</th>\n    </tr>\n  </thead>\n  <tbody>\n    <tr>\n      <th>0</th>\n      <td>httpdataeuropaeua4gresourceid_2023s085259678_c...</td>\n      <td>httpdataeuropaeua4gresourceid_2023s085259678_c...</td>\n      <td>ζαραϊδωνησ χρηστοσ</td>\n      <td>httpdataeuropaeua4gresourceid_2023s085259678_c...</td>\n      <td>None</td>\n      <td>grc</td>\n      <td>19300</td>\n      <td>ασπροπυργοσ</td>\n      <td>θεση κουταλα</td>\n      <td>None</td>\n      <td>...</td>\n      <td>el3</td>\n      <td>αττική</td>\n      <td>attiki</td>\n      <td>el30</td>\n      <td>aττική</td>\n      <td>attiki</td>\n      <td>el306</td>\n      <td>δυτική αττική</td>\n      <td>dytiki attiki</td>\n      <td>httpdataeuropaeua4gresourceid_2023s085259678_c...</td>\n    </tr>\n    <tr>\n      <th>1</th>\n      <td>httpdataeuropaeua4gresourceid_2023s085259678_c...</td>\n      <td>httpdataeuropaeua4gresourceid_2023s085259678_c...</td>\n      <td>αλεξιου ιωαννησ</td>\n      <td>httpdataeuropaeua4gresourceid_2023s085259678_c...</td>\n      <td>None</td>\n      <td>grc</td>\n      <td>10683</td>\n      <td>αθηνα</td>\n      <td>σπυρου τρικουπη 44</td>\n      <td>None</td>\n      <td>...</td>\n      <td>el3</td>\n      <td>αττική</td>\n      <td>attiki</td>\n      <td>el30</td>\n      <td>aττική</td>\n      <td>attiki</td>\n      <td>el303</td>\n      <td>κεντρικόσ τομέασ αθηνών</td>\n      <td>kentrikos tomeas athinon</td>\n      <td>httpdataeuropaeua4gresourceid_2023s085259678_c...</td>\n    </tr>\n    <tr>\n      <th>2</th>\n      <td>httpdataeuropaeua4gresourceid_2023s085259678_c...</td>\n      <td>httpdataeuropaeua4gresourceid_2023s085259678_c...</td>\n      <td>ενωση μακεδονιασ ανωνυμη μεταφορικη εταιρεια αμε</td>\n      <td>httpdataeuropaeua4gresourceid_2023s085259678_c...</td>\n      <td>None</td>\n      <td>grc</td>\n      <td>17778</td>\n      <td>ταυροσ</td>\n      <td>ηρασ 4</td>\n      <td>None</td>\n      <td>...</td>\n      <td>el3</td>\n      <td>αττική</td>\n      <td>attiki</td>\n      <td>el30</td>\n      <td>aττική</td>\n      <td>attiki</td>\n      <td>el303</td>\n      <td>κεντρικόσ τομέασ αθηνών</td>\n      <td>kentrikos tomeas athinon</td>\n      <td>httpdataeuropaeua4gresourceid_2023s085259678_c...</td>\n    </tr>\n    <tr>\n      <th>3</th>\n      <td>httpdataeuropaeua4gresourceid_2023s085259678_o...</td>\n      <td>httpdataeuropaeua4gresourceid_2023s089274506_o...</td>\n      <td>ηλεκτρονικοσ εθνικοσ φορεασ κοινωνικησ ασφαλισ...</td>\n      <td>httpdataeuropaeua4gresourceid_2023s089274506_o...</td>\n      <td>None</td>\n      <td>grc</td>\n      <td>106 71</td>\n      <td>αθηνα</td>\n      <td>ακαδημιασ 22</td>\n      <td>None</td>\n      <td>...</td>\n      <td>el3</td>\n      <td>αττική</td>\n      <td>attiki</td>\n      <td>el30</td>\n      <td>aττική</td>\n      <td>attiki</td>\n      <td>el303</td>\n      <td>κεντρικόσ τομέασ αθηνών</td>\n      <td>kentrikos tomeas athinon</td>\n      <td>httpdataeuropaeua4gresourceid_2023s085259678_o...</td>\n    </tr>\n    <tr>\n      <th>4</th>\n      <td>httpdataeuropaeua4gresourceid_2023s085259681_c...</td>\n      <td>httpdataeuropaeua4gresourceid_2023s094289272_c...</td>\n      <td>мусала 88 еоод</td>\n      <td>httpdataeuropaeua4gresourceid_2023s094289272_c...</td>\n      <td>None</td>\n      <td>bgr</td>\n      <td>2781</td>\n      <td>с горно краище</td>\n      <td>без улица 0</td>\n      <td>None</td>\n      <td>...</td>\n      <td>bg4</td>\n      <td>югозападна и южна централна българия</td>\n      <td>yugozapadna i yuzhna tsentralna bulgaria</td>\n      <td>bg41</td>\n      <td>югозападен</td>\n      <td>yugozapaden</td>\n      <td>None</td>\n      <td>None</td>\n      <td>None</td>\n      <td>httpdataeuropaeua4gresourceid_2023s085259681_c...</td>\n    </tr>\n    <tr>\n      <th>...</th>\n      <td>...</td>\n      <td>...</td>\n      <td>...</td>\n      <td>...</td>\n      <td>...</td>\n      <td>...</td>\n      <td>...</td>\n      <td>...</td>\n      <td>...</td>\n      <td>...</td>\n      <td>...</td>\n      <td>...</td>\n      <td>...</td>\n      <td>...</td>\n      <td>...</td>\n      <td>...</td>\n      <td>...</td>\n      <td>...</td>\n      <td>...</td>\n      <td>...</td>\n      <td>...</td>\n    </tr>\n    <tr>\n      <th>23082</th>\n      <td>httpdataeuropaeua4gresourceid_2023s094291826_c...</td>\n      <td>httpdataeuropaeua4gresourceid_2023s094291826_c...</td>\n      <td>djurambulansen jonas tysklind ab</td>\n      <td>httpdataeuropaeua4gresourceid_2023s094291826_c...</td>\n      <td>sme</td>\n      <td>swe</td>\n      <td>26994</td>\n      <td>båstad</td>\n      <td>häljarpsvägen 83</td>\n      <td>None</td>\n      <td>...</td>\n      <td>se2</td>\n      <td>södra sverige</td>\n      <td>södra sverige</td>\n      <td>se23</td>\n      <td>västsverige</td>\n      <td>västsverige</td>\n      <td>None</td>\n      <td>None</td>\n      <td>None</td>\n      <td>httpdataeuropaeua4gresourceid_2023s094291826_c...</td>\n    </tr>\n    <tr>\n      <th>23083</th>\n      <td>httpdataeuropaeua4gresourceid_2023s094291826_c...</td>\n      <td>httpdataeuropaeua4gresourceid_2023s094291826_c...</td>\n      <td>svenska hundskyddsföreningen</td>\n      <td>httpdataeuropaeua4gresourceid_2023s094291826_c...</td>\n      <td>sme</td>\n      <td>swe</td>\n      <td>16838</td>\n      <td>bromma</td>\n      <td>åkeshovs gårdsväg 10</td>\n      <td>None</td>\n      <td>...</td>\n      <td>se2</td>\n      <td>södra sverige</td>\n      <td>södra sverige</td>\n      <td>se23</td>\n      <td>västsverige</td>\n      <td>västsverige</td>\n      <td>None</td>\n      <td>None</td>\n      <td>None</td>\n      <td>httpdataeuropaeua4gresourceid_2023s094291826_c...</td>\n    </tr>\n    <tr>\n      <th>23084</th>\n      <td>httpdataeuropaeua4gresourceid_2023s094291826_o...</td>\n      <td>httpdataeuropaeua4gresourceid_2023s094291826_o...</td>\n      <td>länsstyrelsen i hallands län</td>\n      <td>httpdataeuropaeua4gresourceid_2023s094291826_o...</td>\n      <td>None</td>\n      <td>swe</td>\n      <td>30186</td>\n      <td>halmstad</td>\n      <td>slottsgatan 2</td>\n      <td>None</td>\n      <td>...</td>\n      <td>se2</td>\n      <td>södra sverige</td>\n      <td>södra sverige</td>\n      <td>se23</td>\n      <td>västsverige</td>\n      <td>västsverige</td>\n      <td>se231</td>\n      <td>hallands län</td>\n      <td>hallands län</td>\n      <td>httpdataeuropaeua4gresourceid_2023s094291826_o...</td>\n    </tr>\n    <tr>\n      <th>23085</th>\n      <td>httpdataeuropaeua4gresourceid_2023s094291834_c...</td>\n      <td>httpdataeuropaeua4gresourceid_2023s094291834_c...</td>\n      <td>awp sro</td>\n      <td>httpdataeuropaeua4gresourceid_2023s094291834_c...</td>\n      <td>sme</td>\n      <td>cze</td>\n      <td>252 42</td>\n      <td>jesenice u prahy</td>\n      <td>okružní 635</td>\n      <td>None</td>\n      <td>...</td>\n      <td>None</td>\n      <td>None</td>\n      <td>None</td>\n      <td>None</td>\n      <td>None</td>\n      <td>None</td>\n      <td>None</td>\n      <td>None</td>\n      <td>None</td>\n      <td>httpdataeuropaeua4gresourceid_2023s094291834_c...</td>\n    </tr>\n    <tr>\n      <th>23086</th>\n      <td>httpdataeuropaeua4gresourceid_2023s094291834_o...</td>\n      <td>httpdataeuropaeua4gresourceid_2023s094291834_o...</td>\n      <td>krajská správa a údržba silnic vysočiny příspě...</td>\n      <td>httpdataeuropaeua4gresourceid_2023s094291834_o...</td>\n      <td>None</td>\n      <td>cze</td>\n      <td>586 01</td>\n      <td>jihlava</td>\n      <td>kosovská 112216</td>\n      <td>None</td>\n      <td>...</td>\n      <td>cz0</td>\n      <td>česko</td>\n      <td>česko</td>\n      <td>cz06</td>\n      <td>jihovýchod</td>\n      <td>jihovýchod</td>\n      <td>cz063</td>\n      <td>kraj vysočina</td>\n      <td>kraj vysočina</td>\n      <td>httpdataeuropaeua4gresourceid_2023s094291834_o...</td>\n    </tr>\n  </tbody>\n</table>\n<p>23087 rows × 26 columns</p>\n</div>"
     },
     "execution_count": 209,
     "metadata": {},
     "output_type": "execute_result"
    }
   ],
   "source": [
    "preprocessed_df"
   ],
   "metadata": {
    "collapsed": false,
    "ExecuteTime": {
     "end_time": "2023-06-16T17:55:40.731558Z",
     "start_time": "2023-06-16T17:55:40.706368Z"
    }
   }
  },
  {
   "cell_type": "code",
   "execution_count": 155,
   "outputs": [
    {
     "data": {
      "text/plain": "46.794662"
     },
     "execution_count": 155,
     "metadata": {},
     "output_type": "execute_result"
    }
   ],
   "source": [
    "result_merged_clusters_df.memory_usage(index=True, deep=True).sum() / 1000000"
   ],
   "metadata": {
    "collapsed": false,
    "ExecuteTime": {
     "end_time": "2023-06-16T06:52:49.786191Z",
     "start_time": "2023-06-16T06:52:49.775703Z"
    }
   }
  },
  {
   "cell_type": "code",
   "execution_count": 156,
   "outputs": [
    {
     "data": {
      "text/plain": "23087"
     },
     "execution_count": 156,
     "metadata": {},
     "output_type": "execute_result"
    }
   ],
   "source": [
    "len(result_merged_clusters_df)"
   ],
   "metadata": {
    "collapsed": false,
    "ExecuteTime": {
     "end_time": "2023-06-16T06:53:02.938386Z",
     "start_time": "2023-06-16T06:53:02.935941Z"
    }
   }
  }
 ],
 "metadata": {
  "kernelspec": {
   "display_name": "Python 3",
   "language": "python",
   "name": "python3"
  },
  "language_info": {
   "codemirror_mode": {
    "name": "ipython",
    "version": 2
   },
   "file_extension": ".py",
   "mimetype": "text/x-python",
   "name": "python",
   "nbconvert_exporter": "python",
   "pygments_lexer": "ipython2",
   "version": "2.7.6"
  }
 },
 "nbformat": 4,
 "nbformat_minor": 0
}
